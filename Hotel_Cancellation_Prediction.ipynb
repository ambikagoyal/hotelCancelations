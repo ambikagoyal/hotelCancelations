{
 "cells": [
  {
   "attachments": {},
   "cell_type": "markdown",
   "id": "bc19f0cb",
   "metadata": {},
   "source": [
    " # Predict hotel booking cancellations\n",
    "---\n",
    "### Objectives: \n",
    "* Perform data exploration, cleaning, imputation.\n",
    "* Use data visualisation techniques to explore the data set.\n",
    "* Come up with a binary classification model to predict whether a booking will be cancelled or not\n",
    "* For cancelled bookings, come up with a regression model to predict how many days in advance the guest cancels.\n",
    "* Then create a decision support tool by combining the two above models.\n",
    "\n",
    "Project Members:\n",
    "- Ambika Kumari Goyal, 442033\n",
    "- Ankit Parab, 442240\n",
    "- Nallaperumal Krishnan, 441056\n",
    "- Siddhi Chavan, 442931\n",
    "- Spurthi Kunduri, 443194"
   ]
  },
  {
   "attachments": {},
   "cell_type": "markdown",
   "id": "f9243462",
   "metadata": {},
   "source": [
    "## Table of Contents\n",
    "\n",
    "- [1. Loading Data](#1.-Loading-Data)\n",
    "- [2. Exploratory Data Analysis](#2.-Exploratory-Data-Analysis:)\n",
    "- [3. Data Cleaning and Preprocessing](#3.-Data-Cleaning-and-Preprocessing)\n",
    "- [4. Model 1 - Binary Classification](#4.-Model-1---Binary-Classification)\n",
    "     - [4.1 Logistic Regression Model](#4.1-Logistic-Regression-Model---'Predicting-if-the-booking-will-be-canceled-or-not')\n",
    "     - [4.1.1 Fitting the model](#4.1.1-Fitting-the-model)\n",
    "     - [4.1.2 Hyperparametric Tuning](#4.1.2-Hyperparametric-Tuning)\n",
    "- [5. Model 2 : Regression](#5.-Model-2-:--Regression)\n",
    "     - [5.1 Data Preparation](#5.1-Data-Preparation)\n",
    "     - [5.2 Model Selection and fitting the model](#5.2-Model-Selection-and-fitting-the-model)\n",
    "          - [5.2.1 Backward Feature Selection](#5.2.1-Backward-Feature-Selection)\n",
    "          - [5.2.2 Fitting the model using the features](#5.2.2-Fitting-the-model-using-the-features)\n",
    "          - [5.2.3 Hyperparametric Tuning](#5.2.3-Hyperparametric-Tuning)\n",
    "- [6. Prediction Tool - combining both the models](#6.-Prediction-Tool---combining-both-the-models)\n",
    "- [7. Summary and Conclusion](#7.-Summary-and-Conclusion)"
   ]
  },
  {
   "cell_type": "markdown",
   "id": "8d322732",
   "metadata": {},
   "source": [
    "#### Importing all required libraries"
   ]
  },
  {
   "cell_type": "code",
   "execution_count": 1,
   "id": "53d2b87d",
   "metadata": {},
   "outputs": [],
   "source": [
    "import pandas as pd\n",
    "import numpy as np\n",
    "import plotly.express as px\n",
    "import sort_dataframeby_monthorweek as sd\n",
    "import matplotlib.pyplot as plt\n",
    "import seaborn as sns\n",
    "import datetime\n",
    "import warnings\n",
    "import math\n",
    "import pandas.tseries  \n",
    "plt.style.use('fivethirtyeight')  \n",
    "warnings.simplefilter(action='ignore', category=FutureWarning)\n",
    "%matplotlib inline"
   ]
  },
  {
   "cell_type": "code",
   "execution_count": 2,
   "id": "b7aa830e",
   "metadata": {},
   "outputs": [],
   "source": [
    "from matplotlib import pyplot\n",
    "from sklearn import linear_model\n",
    "from sklearn.linear_model import LinearRegression, LogisticRegression\n",
    "from sklearn.feature_selection import SelectFromModel\n",
    "from sklearn import preprocessing\n",
    "from sklearn.preprocessing import StandardScaler, PolynomialFeatures\n",
    "from sklearn.model_selection import train_test_split, GridSearchCV, cross_val_score, StratifiedKFold, KFold\n",
    "from sklearn.metrics import accuracy_score, confusion_matrix, classification_report, recall_score, f1_score, r2_score, mean_absolute_error\n",
    "from pathlib import Path\n",
    "from sklearn.compose import ColumnTransformer\n",
    "from sklearn.preprocessing import OneHotEncoder\n",
    "from sklearn import metrics\n",
    "from numpy import mean, std, sqrt, absolute\n",
    "from sklearn.pipeline import make_pipeline\n",
    "from decimal import *"
   ]
  },
  {
   "attachments": {},
   "cell_type": "markdown",
   "id": "eec650cc",
   "metadata": {},
   "source": [
    "### 1. Loading Data\n",
    "---"
   ]
  },
  {
   "cell_type": "code",
   "execution_count": 3,
   "id": "ee3cc880",
   "metadata": {},
   "outputs": [
    {
     "data": {
      "text/html": [
       "<div>\n",
       "<style scoped>\n",
       "    .dataframe tbody tr th:only-of-type {\n",
       "        vertical-align: middle;\n",
       "    }\n",
       "\n",
       "    .dataframe tbody tr th {\n",
       "        vertical-align: top;\n",
       "    }\n",
       "\n",
       "    .dataframe thead th {\n",
       "        text-align: right;\n",
       "    }\n",
       "</style>\n",
       "<table border=\"1\" class=\"dataframe\">\n",
       "  <thead>\n",
       "    <tr style=\"text-align: right;\">\n",
       "      <th></th>\n",
       "      <th>hotel</th>\n",
       "      <th>is_canceled</th>\n",
       "      <th>lead_time</th>\n",
       "      <th>arrival_date_year</th>\n",
       "      <th>arrival_date_month</th>\n",
       "      <th>arrival_date_week_number</th>\n",
       "      <th>arrival_date_day_of_month</th>\n",
       "      <th>stays_in_weekend_nights</th>\n",
       "      <th>stays_in_week_nights</th>\n",
       "      <th>adults</th>\n",
       "      <th>children</th>\n",
       "      <th>babies</th>\n",
       "      <th>meal</th>\n",
       "      <th>country</th>\n",
       "      <th>market_segment</th>\n",
       "      <th>distribution_channel</th>\n",
       "      <th>is_repeated_guest</th>\n",
       "      <th>previous_cancellations</th>\n",
       "      <th>previous_bookings_not_canceled</th>\n",
       "      <th>reserved_room_type</th>\n",
       "      <th>assigned_room_type</th>\n",
       "      <th>booking_changes</th>\n",
       "      <th>deposit_type</th>\n",
       "      <th>agent</th>\n",
       "      <th>company</th>\n",
       "      <th>days_in_waiting_list</th>\n",
       "      <th>customer_type</th>\n",
       "      <th>adr</th>\n",
       "      <th>required_car_parking_spaces</th>\n",
       "      <th>total_of_special_requests</th>\n",
       "      <th>reservation_status</th>\n",
       "      <th>reservation_status_date</th>\n",
       "    </tr>\n",
       "  </thead>\n",
       "  <tbody>\n",
       "    <tr>\n",
       "      <th>0</th>\n",
       "      <td>Resort Hotel</td>\n",
       "      <td>0</td>\n",
       "      <td>342</td>\n",
       "      <td>2015</td>\n",
       "      <td>July</td>\n",
       "      <td>27</td>\n",
       "      <td>1</td>\n",
       "      <td>0</td>\n",
       "      <td>0</td>\n",
       "      <td>2</td>\n",
       "      <td>0.0</td>\n",
       "      <td>0</td>\n",
       "      <td>BB</td>\n",
       "      <td>PRT</td>\n",
       "      <td>Direct</td>\n",
       "      <td>Direct</td>\n",
       "      <td>0</td>\n",
       "      <td>0</td>\n",
       "      <td>0</td>\n",
       "      <td>C</td>\n",
       "      <td>C</td>\n",
       "      <td>3</td>\n",
       "      <td>No Deposit</td>\n",
       "      <td>NaN</td>\n",
       "      <td>NaN</td>\n",
       "      <td>0</td>\n",
       "      <td>Transient</td>\n",
       "      <td>0.0</td>\n",
       "      <td>0</td>\n",
       "      <td>0</td>\n",
       "      <td>Check-Out</td>\n",
       "      <td>2015-07-01</td>\n",
       "    </tr>\n",
       "    <tr>\n",
       "      <th>1</th>\n",
       "      <td>Resort Hotel</td>\n",
       "      <td>0</td>\n",
       "      <td>737</td>\n",
       "      <td>2015</td>\n",
       "      <td>July</td>\n",
       "      <td>27</td>\n",
       "      <td>1</td>\n",
       "      <td>0</td>\n",
       "      <td>0</td>\n",
       "      <td>2</td>\n",
       "      <td>0.0</td>\n",
       "      <td>0</td>\n",
       "      <td>BB</td>\n",
       "      <td>PRT</td>\n",
       "      <td>Direct</td>\n",
       "      <td>Direct</td>\n",
       "      <td>0</td>\n",
       "      <td>0</td>\n",
       "      <td>0</td>\n",
       "      <td>C</td>\n",
       "      <td>C</td>\n",
       "      <td>4</td>\n",
       "      <td>No Deposit</td>\n",
       "      <td>NaN</td>\n",
       "      <td>NaN</td>\n",
       "      <td>0</td>\n",
       "      <td>Transient</td>\n",
       "      <td>0.0</td>\n",
       "      <td>0</td>\n",
       "      <td>0</td>\n",
       "      <td>Check-Out</td>\n",
       "      <td>2015-07-01</td>\n",
       "    </tr>\n",
       "    <tr>\n",
       "      <th>2</th>\n",
       "      <td>Resort Hotel</td>\n",
       "      <td>0</td>\n",
       "      <td>7</td>\n",
       "      <td>2015</td>\n",
       "      <td>July</td>\n",
       "      <td>27</td>\n",
       "      <td>1</td>\n",
       "      <td>0</td>\n",
       "      <td>1</td>\n",
       "      <td>1</td>\n",
       "      <td>0.0</td>\n",
       "      <td>0</td>\n",
       "      <td>BB</td>\n",
       "      <td>GBR</td>\n",
       "      <td>Direct</td>\n",
       "      <td>Direct</td>\n",
       "      <td>0</td>\n",
       "      <td>0</td>\n",
       "      <td>0</td>\n",
       "      <td>A</td>\n",
       "      <td>C</td>\n",
       "      <td>0</td>\n",
       "      <td>No Deposit</td>\n",
       "      <td>NaN</td>\n",
       "      <td>NaN</td>\n",
       "      <td>0</td>\n",
       "      <td>Transient</td>\n",
       "      <td>75.0</td>\n",
       "      <td>0</td>\n",
       "      <td>0</td>\n",
       "      <td>Check-Out</td>\n",
       "      <td>2015-07-02</td>\n",
       "    </tr>\n",
       "    <tr>\n",
       "      <th>3</th>\n",
       "      <td>Resort Hotel</td>\n",
       "      <td>0</td>\n",
       "      <td>13</td>\n",
       "      <td>2015</td>\n",
       "      <td>July</td>\n",
       "      <td>27</td>\n",
       "      <td>1</td>\n",
       "      <td>0</td>\n",
       "      <td>1</td>\n",
       "      <td>1</td>\n",
       "      <td>0.0</td>\n",
       "      <td>0</td>\n",
       "      <td>BB</td>\n",
       "      <td>GBR</td>\n",
       "      <td>Corporate</td>\n",
       "      <td>Corporate</td>\n",
       "      <td>0</td>\n",
       "      <td>0</td>\n",
       "      <td>0</td>\n",
       "      <td>A</td>\n",
       "      <td>A</td>\n",
       "      <td>0</td>\n",
       "      <td>No Deposit</td>\n",
       "      <td>304.0</td>\n",
       "      <td>NaN</td>\n",
       "      <td>0</td>\n",
       "      <td>Transient</td>\n",
       "      <td>75.0</td>\n",
       "      <td>0</td>\n",
       "      <td>0</td>\n",
       "      <td>Check-Out</td>\n",
       "      <td>2015-07-02</td>\n",
       "    </tr>\n",
       "    <tr>\n",
       "      <th>4</th>\n",
       "      <td>Resort Hotel</td>\n",
       "      <td>0</td>\n",
       "      <td>14</td>\n",
       "      <td>2015</td>\n",
       "      <td>July</td>\n",
       "      <td>27</td>\n",
       "      <td>1</td>\n",
       "      <td>0</td>\n",
       "      <td>2</td>\n",
       "      <td>2</td>\n",
       "      <td>0.0</td>\n",
       "      <td>0</td>\n",
       "      <td>BB</td>\n",
       "      <td>GBR</td>\n",
       "      <td>Online TA</td>\n",
       "      <td>TA/TO</td>\n",
       "      <td>0</td>\n",
       "      <td>0</td>\n",
       "      <td>0</td>\n",
       "      <td>A</td>\n",
       "      <td>A</td>\n",
       "      <td>0</td>\n",
       "      <td>No Deposit</td>\n",
       "      <td>240.0</td>\n",
       "      <td>NaN</td>\n",
       "      <td>0</td>\n",
       "      <td>Transient</td>\n",
       "      <td>98.0</td>\n",
       "      <td>0</td>\n",
       "      <td>1</td>\n",
       "      <td>Check-Out</td>\n",
       "      <td>2015-07-03</td>\n",
       "    </tr>\n",
       "  </tbody>\n",
       "</table>\n",
       "</div>"
      ],
      "text/plain": [
       "          hotel  is_canceled  lead_time  arrival_date_year arrival_date_month  \\\n",
       "0  Resort Hotel            0        342               2015               July   \n",
       "1  Resort Hotel            0        737               2015               July   \n",
       "2  Resort Hotel            0          7               2015               July   \n",
       "3  Resort Hotel            0         13               2015               July   \n",
       "4  Resort Hotel            0         14               2015               July   \n",
       "\n",
       "   arrival_date_week_number  arrival_date_day_of_month  \\\n",
       "0                        27                          1   \n",
       "1                        27                          1   \n",
       "2                        27                          1   \n",
       "3                        27                          1   \n",
       "4                        27                          1   \n",
       "\n",
       "   stays_in_weekend_nights  stays_in_week_nights  adults  children  babies  \\\n",
       "0                        0                     0       2       0.0       0   \n",
       "1                        0                     0       2       0.0       0   \n",
       "2                        0                     1       1       0.0       0   \n",
       "3                        0                     1       1       0.0       0   \n",
       "4                        0                     2       2       0.0       0   \n",
       "\n",
       "  meal country market_segment distribution_channel  is_repeated_guest  \\\n",
       "0   BB     PRT         Direct               Direct                  0   \n",
       "1   BB     PRT         Direct               Direct                  0   \n",
       "2   BB     GBR         Direct               Direct                  0   \n",
       "3   BB     GBR      Corporate            Corporate                  0   \n",
       "4   BB     GBR      Online TA                TA/TO                  0   \n",
       "\n",
       "   previous_cancellations  previous_bookings_not_canceled reserved_room_type  \\\n",
       "0                       0                               0                  C   \n",
       "1                       0                               0                  C   \n",
       "2                       0                               0                  A   \n",
       "3                       0                               0                  A   \n",
       "4                       0                               0                  A   \n",
       "\n",
       "  assigned_room_type  booking_changes deposit_type  agent  company  \\\n",
       "0                  C                3   No Deposit    NaN      NaN   \n",
       "1                  C                4   No Deposit    NaN      NaN   \n",
       "2                  C                0   No Deposit    NaN      NaN   \n",
       "3                  A                0   No Deposit  304.0      NaN   \n",
       "4                  A                0   No Deposit  240.0      NaN   \n",
       "\n",
       "   days_in_waiting_list customer_type   adr  required_car_parking_spaces  \\\n",
       "0                     0     Transient   0.0                            0   \n",
       "1                     0     Transient   0.0                            0   \n",
       "2                     0     Transient  75.0                            0   \n",
       "3                     0     Transient  75.0                            0   \n",
       "4                     0     Transient  98.0                            0   \n",
       "\n",
       "   total_of_special_requests reservation_status reservation_status_date  \n",
       "0                          0          Check-Out              2015-07-01  \n",
       "1                          0          Check-Out              2015-07-01  \n",
       "2                          0          Check-Out              2015-07-02  \n",
       "3                          0          Check-Out              2015-07-02  \n",
       "4                          1          Check-Out              2015-07-03  "
      ]
     },
     "execution_count": 3,
     "metadata": {},
     "output_type": "execute_result"
    }
   ],
   "source": [
    "pd.set_option('display.max_rows',35)\n",
    "pd.set_option('display.max_columns',35)\n",
    "hotel_data = pd.read_csv('data.csv')\n",
    "hotel_data.head()"
   ]
  },
  {
   "cell_type": "code",
   "execution_count": 4,
   "id": "180199c8",
   "metadata": {},
   "outputs": [
    {
     "data": {
      "text/plain": [
       "(119390, 32)"
      ]
     },
     "execution_count": 4,
     "metadata": {},
     "output_type": "execute_result"
    }
   ],
   "source": [
    "hotel_data.shape"
   ]
  },
  {
   "attachments": {},
   "cell_type": "markdown",
   "id": "612783a9",
   "metadata": {},
   "source": [
    "### 2. Exploratory Data Analysis:\n",
    "---"
   ]
  },
  {
   "cell_type": "code",
   "execution_count": 5,
   "id": "7f0b383a",
   "metadata": {},
   "outputs": [
    {
     "data": {
      "text/plain": [
       "array(['Resort Hotel', 'City Hotel'], dtype=object)"
      ]
     },
     "execution_count": 5,
     "metadata": {},
     "output_type": "execute_result"
    }
   ],
   "source": [
    "## Differentiating the various hotel types in our data\n",
    "hotel_data['hotel'].unique()"
   ]
  },
  {
   "cell_type": "code",
   "execution_count": 6,
   "id": "250ee68a",
   "metadata": {},
   "outputs": [],
   "source": [
    "single_palette = 'viridis'\n",
    "double_palette = 'viridis'"
   ]
  },
  {
   "cell_type": "code",
   "execution_count": 7,
   "id": "2da08b9d",
   "metadata": {},
   "outputs": [
    {
     "data": {
      "text/plain": [
       "Text(0, 0.5, 'Count')"
      ]
     },
     "execution_count": 7,
     "metadata": {},
     "output_type": "execute_result"
    },
    {
     "data": {
      "image/png": "[encoded data removed]",
      "text/plain": [
       "<Figure size 300x300 with 1 Axes>"
      ]
     },
     "metadata": {},
     "output_type": "display_data"
    }
   ],
   "source": [
    "## Hotel Type Details\n",
    "plt.figure(figsize=(3,3))\n",
    "sns.countplot(x='hotel', data = hotel_data, palette = 'viridis', alpha=0.9)\n",
    "plt.title('Types of Hotels', fontsize = 10)\n",
    "plt.xlabel('Hotel Type', fontsize = 8)\n",
    "plt.ylabel('Count', fontsize = 8)"
   ]
  },
  {
   "cell_type": "code",
   "execution_count": 8,
   "id": "4b9c735f",
   "metadata": {},
   "outputs": [
    {
     "data": {
      "text/plain": [
       "0    75166\n",
       "1    44224\n",
       "Name: is_canceled, dtype: int64"
      ]
     },
     "execution_count": 8,
     "metadata": {},
     "output_type": "execute_result"
    },
    {
     "data": {
      "image/png": "[encoded data removed]",
      "text/plain": [
       "<Figure size 400x400 with 1 Axes>"
      ]
     },
     "metadata": {},
     "output_type": "display_data"
    }
   ],
   "source": [
    "#'is_canceled' graph details\n",
    "plt.figure(figsize=(4,4))\n",
    "sns.countplot(data=hotel_data, x = 'hotel', hue='is_canceled', palette=double_palette, alpha=0.9)\n",
    "plt.title('Number of Fulfilled Bookings vs Number of Cancelled Bookings', fontsize = 12)\n",
    "plt.xlabel('Hotel Types', fontsize=10)\n",
    "plt.ylabel('Count', fontsize=10)\n",
    "count = hotel_data['is_canceled'].value_counts()\n",
    "count"
   ]
  },
  {
   "attachments": {},
   "cell_type": "markdown",
   "id": "ca14edfb",
   "metadata": {},
   "source": [
    "- From the above graph we can infer that the number of bookings for the city hotel is much higher when compared to the resort hotel and the cancellation rate is also high in city hotel."
   ]
  },
  {
   "cell_type": "code",
   "execution_count": 9,
   "id": "9fe6624a",
   "metadata": {},
   "outputs": [
    {
     "data": {
      "text/plain": [
       "(array([  0.,  50., 100., 150., 200.]),\n",
       " [Text(0, 0.0, '0'),\n",
       "  Text(0, 50.0, '50'),\n",
       "  Text(0, 100.0, '100'),\n",
       "  Text(0, 150.0, '150'),\n",
       "  Text(0, 200.0, '200')])"
      ]
     },
     "execution_count": 9,
     "metadata": {},
     "output_type": "execute_result"
    },
    {
     "data": {
      "image/png": "[encoded data removed]",
      "text/plain": [
       "<Figure size 600x300 with 1 Axes>"
      ]
     },
     "metadata": {},
     "output_type": "display_data"
    }
   ],
   "source": [
    "## Checking for the busiest month of the year\n",
    "dfig = plt.figure(figsize=(6,3),dpi=100)\n",
    "months = ['January','February','March','April','May','June','July','August','September','October','November','December']\n",
    "sns.lineplot(data=hotel_data, x= 'arrival_date_month', y = 'adr', hue='hotel', palette='viridis', alpha=0.9)\n",
    "plt.xticks(rotation=45,fontsize=6)\n",
    "plt.yticks(fontsize=6)"
   ]
  },
  {
   "attachments": {},
   "cell_type": "markdown",
   "id": "3102c3a0",
   "metadata": {},
   "source": [
    "- This above line graph represents the Monthly Arrivals at Resort Hotel and City Hotel against the Average Daily Rate(adr).\n",
    "- The Resort Hotel trend shows a lot of variation in arrivals during July, August till a sharp drop in values in November."
   ]
  },
  {
   "cell_type": "code",
   "execution_count": 10,
   "id": "323cba9d",
   "metadata": {},
   "outputs": [
    {
     "data": {
      "text/plain": [
       "Text(0, 0.5, 'Count')"
      ]
     },
     "execution_count": 10,
     "metadata": {},
     "output_type": "execute_result"
    },
    {
     "data": {
      "image/png": "[encoded data removed]",
      "text/plain": [
       "<Figure size 800x400 with 1 Axes>"
      ]
     },
     "metadata": {},
     "output_type": "display_data"
    }
   ],
   "source": [
    "#'arrival_date_month' exploration \n",
    "\n",
    "plt.figure(figsize=(8,4))\n",
    "months = ['January','February','March','April','May','June','July','August','September','October','November','December']\n",
    "\n",
    "sns.countplot(x='arrival_date_month', data=hotel_data, palette= 'viridis', order=months, alpha=0.9)\n",
    "plt.title('Arrival Month', fontsize=10)\n",
    "plt.xlabel('Month', fontsize=10)\n",
    "plt.xticks(rotation=45,fontsize=10)\n",
    "plt.ylabel('Count', fontsize=10)"
   ]
  },
  {
   "attachments": {},
   "cell_type": "markdown",
   "id": "e641de10",
   "metadata": {},
   "source": [
    "- As we can see from the above plots: July & August are the busiest months of the year and hence their adr is high.\n",
    "- Jan, Nov & Dec have the lowest activity and hence their adr is low. Jan is half as busy compared to Aug.\n",
    "- In conclusion, the months in summer season are the busiest months for the hotels"
   ]
  },
  {
   "cell_type": "code",
   "execution_count": 11,
   "id": "f48fa5e6",
   "metadata": {},
   "outputs": [
    {
     "data": {
      "image/png": "[encoded data removed]",
      "text/plain": [
       "<Figure size 1200x500 with 3 Axes>"
      ]
     },
     "metadata": {},
     "output_type": "display_data"
    }
   ],
   "source": [
    "deposit_types = hotel_data['deposit_type'].unique()\n",
    "nrows = 1\n",
    "ncols = len(deposit_types)\n",
    "fig, axs = plt.subplots(nrows=nrows, ncols=ncols, figsize=(ncols * 4, nrows * 5))\n",
    "\n",
    "for i, deposit_type in enumerate(deposit_types):\n",
    "    filtered_df = hotel_data[hotel_data['deposit_type'] == deposit_type]\n",
    "    grouped = filtered_df.groupby('is_canceled').size().reset_index(name='counts')\n",
    "    bar = sns.barplot(x='is_canceled', y='counts', data=grouped, ax=axs[i], palette=double_palette, alpha=0.8)\n",
    "    for j in range(len(grouped)):\n",
    "        count = grouped.loc[j, 'counts']\n",
    "        bar.text(j, count , count, ha='center', va = 'baseline', fontsize=10)\n",
    "    axs[i].set_title(deposit_type, fontsize=12)\n",
    "plt.tight_layout()\n",
    "plt.show()"
   ]
  },
  {
   "attachments": {},
   "cell_type": "markdown",
   "id": "a260cad0",
   "metadata": {},
   "source": [
    "- The above graph represents the relation between the deposit category and cancellations. \n",
    "- We can see that if there is no deposit required for booking then the number of bookings and the cancellations both are more. \n",
    "- Suprisingly, in the non-refund deposit category the number of cancelled bookings are more than the fulfilled bookings."
   ]
  },
  {
   "cell_type": "code",
   "execution_count": 12,
   "id": "31793421",
   "metadata": {},
   "outputs": [
    {
     "data": {
      "image/png": "[encoded data removed]",
      "text/plain": [
       "<Figure size 640x480 with 1 Axes>"
      ]
     },
     "metadata": {},
     "output_type": "display_data"
    },
    {
     "data": {
      "text/plain": [
       "<Figure size 300x300 with 0 Axes>"
      ]
     },
     "metadata": {},
     "output_type": "display_data"
    }
   ],
   "source": [
    "group_adr_request = hotel_data.groupby(['total_of_special_requests'])['is_canceled'].mean().reset_index()\n",
    "group_adr_request.plot(y='is_canceled', kind='pie', explode = (0.1, 0, 0.1, 0,0.1,0.1), autopct='%1.1f%%', startangle=0, shadow=False, labels=group_adr_request['total_of_special_requests'], legend=False, fontsize=8)\n",
    "plt.title('Ratio of Cancellation vs Number of Special Requests', fontsize=10)\n",
    "plt.figure(figsize=(3,3))\n",
    "plt.show()"
   ]
  },
  {
   "attachments": {},
   "cell_type": "markdown",
   "id": "ff8306b0",
   "metadata": {},
   "source": [
    "- The above graph represents the percentage of people cancelling the booking after making the number of special requests. \n",
    "- Here we can see that if guests make special requests then the chance of they cancelling the booking is low. This is  `directly proportional` to the number of special requests made for this data set."
   ]
  },
  {
   "cell_type": "code",
   "execution_count": 13,
   "id": "7dcfc43a",
   "metadata": {},
   "outputs": [
    {
     "data": {
      "text/plain": [
       "Text(0.5, 1.0, 'Bookings and cancellations of Top 10 agents')"
      ]
     },
     "execution_count": 13,
     "metadata": {},
     "output_type": "execute_result"
    },
    {
     "data": {
      "image/png": "[encoded data removed]",
      "text/plain": [
       "<Figure size 650x300 with 1 Axes>"
      ]
     },
     "metadata": {},
     "output_type": "display_data"
    }
   ],
   "source": [
    "## Exploring the feature 'agent' w.r.t is_canceled\n",
    "import math\n",
    "plt.figure(figsize=(6.5,3))\n",
    "agent_df=hotel_data.copy()\n",
    "agent_df['agent'] = agent_df['agent'].fillna(0).astype(int)\n",
    "agent_df = agent_df[agent_df['agent']!=0]\n",
    "sns.countplot(x='agent', hue = 'is_canceled', data=agent_df, order=pd.value_counts(agent_df['agent']).iloc[:10].index, palette=double_palette)\n",
    "plt.xlabel('Agent ID', fontsize=10)\n",
    "plt.ylabel('Count', fontsize=10)\n",
    "plt.title('Bookings and cancellations of Top 10 agents', fontsize=12)"
   ]
  },
  {
   "attachments": {},
   "cell_type": "markdown",
   "id": "642cdac3",
   "metadata": {},
   "source": [
    "- The above graph represents the number of bookings and cancellations with respect to the top 10 agent IDs based on bookings count.\n",
    "- We can see that the number of bookings from Agent ID 9 and 240 are much higher when compared to others. These agent ID also consist of majority number of bookings.\n",
    "- From the above information, we can conclude that agent id 1 is either incompetent or a scam artist."
   ]
  },
  {
   "cell_type": "code",
   "execution_count": 14,
   "id": "729289e4",
   "metadata": {},
   "outputs": [
    {
     "data": {
      "image/png": "[encoded data removed]",
      "text/plain": [
       "<Figure size 2000x600 with 2 Axes>"
      ]
     },
     "metadata": {},
     "output_type": "display_data"
    }
   ],
   "source": [
    "#Number of bookings and cancellations against the column 'country'\n",
    "fig,(ax1,ax2)=plt.subplots(1,2,figsize=(20,6))\n",
    "\n",
    "\n",
    "sns.countplot(x='country', hue = 'is_canceled', data=hotel_data, order=pd.value_counts(hotel_data['country']).iloc[0:10].index, palette=double_palette,ax=ax1)\n",
    "ax1.set_title('Bookings and cancellations of Top 10 Countries with Portugal', fontsize=20,)\n",
    "\n",
    "\n",
    "sns.countplot(x='country', hue = 'is_canceled', data=hotel_data, order=pd.value_counts(hotel_data['country']).iloc[1:10].index, palette=double_palette,ax=ax2)\n",
    "ax2.set_title('Bookings and cancellations of Top 10 Countries without Portugal', fontsize=20)\n",
    "\n",
    "fig.tight_layout()\n",
    "plt.show()"
   ]
  },
  {
   "attachments": {},
   "cell_type": "markdown",
   "id": "03e97b7e",
   "metadata": {},
   "source": [
    "- The above graph represents the booking cancellations w.r.t the countries from where booking was done. \n",
    "- Since the Hotel is located in Portugual it is obvious that the maximum number of bookings are from Portugual. \n",
    "- The second graph depicts the number of cancellations from countries apart from Portugual. From the graph we can say that the countries neighbouring to Portugual have maximum number of bookings as compared to the other countries."
   ]
  },
  {
   "cell_type": "code",
   "execution_count": 15,
   "id": "0f94fcc7",
   "metadata": {},
   "outputs": [
    {
     "data": {
      "text/plain": [
       "Text(0.5, 1.0, 'Number of bookings w.r.t to market segment')"
      ]
     },
     "execution_count": 15,
     "metadata": {},
     "output_type": "execute_result"
    },
    {
     "data": {
      "image/png": "[encoded data removed]",
      "text/plain": [
       "<Figure size 640x480 with 1 Axes>"
      ]
     },
     "metadata": {},
     "output_type": "display_data"
    }
   ],
   "source": [
    "sns.countplot(data= hotel_data, x= 'market_segment', palette='viridis', alpha = 0.9)\n",
    "plt.xticks(rotation=45,fontsize=10);\n",
    "plt.title('Number of bookings w.r.t to market segment', fontsize=14)"
   ]
  },
  {
   "attachments": {},
   "cell_type": "markdown",
   "id": "8e5d0169",
   "metadata": {},
   "source": [
    "- The above graph depicts the type of mode used for hotel booking VS the number of cancellations. \n",
    "- We can see that the most number of cancellations are from people who have done the hotel booking Online."
   ]
  },
  {
   "attachments": {},
   "cell_type": "markdown",
   "id": "8fd27b05",
   "metadata": {},
   "source": [
    "### 3. Data Cleaning and Preprocessing"
   ]
  },
  {
   "attachments": {},
   "cell_type": "markdown",
   "id": "6031b71d",
   "metadata": {},
   "source": [
    "- We have defined a function to perform all the data pre-processing and return the dataframe to avoid code redundancy since we are using a new dataset to make predictions using the combined model.\n",
    "- The attributes with maximum Nan values are: 'agent' and 'company'. Attributes: 'children', 'country' also contain certain NaNs but they are of negligible count.\n",
    "- Particularly, the NaNs dominate 'company'. Hence, 'company' will be removed as feature.\n",
    "- Moreover, we need to perform Data Imputation for the attributes 'children', 'country' and 'agent' replace the NaNs values with the median values of that particular attribute.\n",
    "- Since, 'country' is a categorical feature, we are filling the nans with mode.\n",
    "- The values for babies, adults, and children can not be zero at the same time. So we will drop all the observations having zero at the same time.\n",
    "- We are not dropping any duplicate values since we do not have any unique ID like a Booking ID or Booking Number. Hence, We cannot decide if a booking is a duplicate or not. \n",
    "- Furthermore, the accuracy of the model is increased without deleting the duplicates since we have many data points.\n",
    "- Room assigned to the guests can play a vital role in the cancelation decision. \n",
    "- For eg., if a certain person reserves a room of Type A, but due to some reason they get assigned a room of Type C, they might opt to cancel their booking due to unavailability of their preferred room type.\n",
    "- Hence, creating a new column 'Room_match' which has values '1' = reserved_room_type &  assigned_room_type are the same and \n",
    "  '0' = reserved_room_type &  assigned_room_type are different."
   ]
  },
  {
   "cell_type": "code",
   "execution_count": 16,
   "id": "0383122a",
   "metadata": {},
   "outputs": [
    {
     "name": "stdout",
     "output_type": "stream",
     "text": [
      "children: 4\n",
      "country: 488\n",
      "agent: 16340\n",
      "company: 112593\n"
     ]
    }
   ],
   "source": [
    "nan_counts = hotel_data.isnull().sum()\n",
    "for column, nan_count in nan_counts.iteritems():\n",
    "    if nan_count > 0:\n",
    "        print(f\"{column}: {nan_count}\")"
   ]
  },
  {
   "cell_type": "code",
   "execution_count": 17,
   "id": "6a0125c5",
   "metadata": {},
   "outputs": [],
   "source": [
    "def clean (df):\n",
    "\n",
    "    df = df.copy()\n",
    "    \n",
    "    #Dropping 'company' & 'agent' -  # Replacing missing numerical values with median - # Replacing missing categorical values with mode \n",
    "    df.drop(['company', 'agent'], axis=1, inplace = True)\n",
    "    df['children'] = df['children'].fillna(df['children'].median())    \n",
    "    df['country']  = df['country'].fillna(df['country'].mode().index[0])\n",
    "\n",
    "    ## Filtering and removing all rows where adults, children and babies are 0 at the same time\n",
    "    filter = (df.children == 0) & (df.adults == 0) & (df.babies == 0)\n",
    "    df[filter]\n",
    "    df = df[~filter]\n",
    "\n",
    "    # Create a new column 'Room_match' with values '1' if 'reserved_room_type' and 'assigned_room_type' match, '0' otherwise\n",
    "    df['Room_match'] = (df['reserved_room_type'] == df['assigned_room_type']).astype(int)\n",
    "\n",
    "    ## Dropping the unwanted columns with very less correlation\n",
    "    df = df.drop(['reserved_room_type','assigned_room_type', 'distribution_channel','country','reservation_status','reservation_status_date' ], axis = 1)\n",
    "\n",
    "    return df"
   ]
  },
  {
   "cell_type": "code",
   "execution_count": 18,
   "id": "81eaa111",
   "metadata": {},
   "outputs": [],
   "source": [
    "## Copying the contents of hotel_data in clean_data so that we can use this dataframe separately in both the models as required. \n",
    "clean_data = hotel_data.copy()"
   ]
  },
  {
   "cell_type": "code",
   "execution_count": 19,
   "id": "3fe5e80c",
   "metadata": {},
   "outputs": [],
   "source": [
    "hotel_data = clean(hotel_data)"
   ]
  },
  {
   "cell_type": "code",
   "execution_count": 20,
   "id": "ec8453a2",
   "metadata": {},
   "outputs": [
    {
     "data": {
      "text/html": [
       "<div>\n",
       "<style scoped>\n",
       "    .dataframe tbody tr th:only-of-type {\n",
       "        vertical-align: middle;\n",
       "    }\n",
       "\n",
       "    .dataframe tbody tr th {\n",
       "        vertical-align: top;\n",
       "    }\n",
       "\n",
       "    .dataframe thead th {\n",
       "        text-align: right;\n",
       "    }\n",
       "</style>\n",
       "<table border=\"1\" class=\"dataframe\">\n",
       "  <thead>\n",
       "    <tr style=\"text-align: right;\">\n",
       "      <th></th>\n",
       "      <th>hotel</th>\n",
       "      <th>is_canceled</th>\n",
       "      <th>lead_time</th>\n",
       "      <th>arrival_date_year</th>\n",
       "      <th>arrival_date_month</th>\n",
       "      <th>arrival_date_week_number</th>\n",
       "      <th>arrival_date_day_of_month</th>\n",
       "      <th>stays_in_weekend_nights</th>\n",
       "      <th>stays_in_week_nights</th>\n",
       "      <th>adults</th>\n",
       "      <th>children</th>\n",
       "      <th>babies</th>\n",
       "      <th>meal</th>\n",
       "      <th>market_segment</th>\n",
       "      <th>is_repeated_guest</th>\n",
       "      <th>previous_cancellations</th>\n",
       "      <th>previous_bookings_not_canceled</th>\n",
       "      <th>booking_changes</th>\n",
       "      <th>deposit_type</th>\n",
       "      <th>days_in_waiting_list</th>\n",
       "      <th>customer_type</th>\n",
       "      <th>adr</th>\n",
       "      <th>required_car_parking_spaces</th>\n",
       "      <th>total_of_special_requests</th>\n",
       "      <th>Room_match</th>\n",
       "    </tr>\n",
       "  </thead>\n",
       "  <tbody>\n",
       "    <tr>\n",
       "      <th>0</th>\n",
       "      <td>Resort Hotel</td>\n",
       "      <td>0</td>\n",
       "      <td>342</td>\n",
       "      <td>2015</td>\n",
       "      <td>July</td>\n",
       "      <td>27</td>\n",
       "      <td>1</td>\n",
       "      <td>0</td>\n",
       "      <td>0</td>\n",
       "      <td>2</td>\n",
       "      <td>0.0</td>\n",
       "      <td>0</td>\n",
       "      <td>BB</td>\n",
       "      <td>Direct</td>\n",
       "      <td>0</td>\n",
       "      <td>0</td>\n",
       "      <td>0</td>\n",
       "      <td>3</td>\n",
       "      <td>No Deposit</td>\n",
       "      <td>0</td>\n",
       "      <td>Transient</td>\n",
       "      <td>0.0</td>\n",
       "      <td>0</td>\n",
       "      <td>0</td>\n",
       "      <td>1</td>\n",
       "    </tr>\n",
       "    <tr>\n",
       "      <th>1</th>\n",
       "      <td>Resort Hotel</td>\n",
       "      <td>0</td>\n",
       "      <td>737</td>\n",
       "      <td>2015</td>\n",
       "      <td>July</td>\n",
       "      <td>27</td>\n",
       "      <td>1</td>\n",
       "      <td>0</td>\n",
       "      <td>0</td>\n",
       "      <td>2</td>\n",
       "      <td>0.0</td>\n",
       "      <td>0</td>\n",
       "      <td>BB</td>\n",
       "      <td>Direct</td>\n",
       "      <td>0</td>\n",
       "      <td>0</td>\n",
       "      <td>0</td>\n",
       "      <td>4</td>\n",
       "      <td>No Deposit</td>\n",
       "      <td>0</td>\n",
       "      <td>Transient</td>\n",
       "      <td>0.0</td>\n",
       "      <td>0</td>\n",
       "      <td>0</td>\n",
       "      <td>1</td>\n",
       "    </tr>\n",
       "    <tr>\n",
       "      <th>2</th>\n",
       "      <td>Resort Hotel</td>\n",
       "      <td>0</td>\n",
       "      <td>7</td>\n",
       "      <td>2015</td>\n",
       "      <td>July</td>\n",
       "      <td>27</td>\n",
       "      <td>1</td>\n",
       "      <td>0</td>\n",
       "      <td>1</td>\n",
       "      <td>1</td>\n",
       "      <td>0.0</td>\n",
       "      <td>0</td>\n",
       "      <td>BB</td>\n",
       "      <td>Direct</td>\n",
       "      <td>0</td>\n",
       "      <td>0</td>\n",
       "      <td>0</td>\n",
       "      <td>0</td>\n",
       "      <td>No Deposit</td>\n",
       "      <td>0</td>\n",
       "      <td>Transient</td>\n",
       "      <td>75.0</td>\n",
       "      <td>0</td>\n",
       "      <td>0</td>\n",
       "      <td>0</td>\n",
       "    </tr>\n",
       "    <tr>\n",
       "      <th>3</th>\n",
       "      <td>Resort Hotel</td>\n",
       "      <td>0</td>\n",
       "      <td>13</td>\n",
       "      <td>2015</td>\n",
       "      <td>July</td>\n",
       "      <td>27</td>\n",
       "      <td>1</td>\n",
       "      <td>0</td>\n",
       "      <td>1</td>\n",
       "      <td>1</td>\n",
       "      <td>0.0</td>\n",
       "      <td>0</td>\n",
       "      <td>BB</td>\n",
       "      <td>Corporate</td>\n",
       "      <td>0</td>\n",
       "      <td>0</td>\n",
       "      <td>0</td>\n",
       "      <td>0</td>\n",
       "      <td>No Deposit</td>\n",
       "      <td>0</td>\n",
       "      <td>Transient</td>\n",
       "      <td>75.0</td>\n",
       "      <td>0</td>\n",
       "      <td>0</td>\n",
       "      <td>1</td>\n",
       "    </tr>\n",
       "    <tr>\n",
       "      <th>4</th>\n",
       "      <td>Resort Hotel</td>\n",
       "      <td>0</td>\n",
       "      <td>14</td>\n",
       "      <td>2015</td>\n",
       "      <td>July</td>\n",
       "      <td>27</td>\n",
       "      <td>1</td>\n",
       "      <td>0</td>\n",
       "      <td>2</td>\n",
       "      <td>2</td>\n",
       "      <td>0.0</td>\n",
       "      <td>0</td>\n",
       "      <td>BB</td>\n",
       "      <td>Online TA</td>\n",
       "      <td>0</td>\n",
       "      <td>0</td>\n",
       "      <td>0</td>\n",
       "      <td>0</td>\n",
       "      <td>No Deposit</td>\n",
       "      <td>0</td>\n",
       "      <td>Transient</td>\n",
       "      <td>98.0</td>\n",
       "      <td>0</td>\n",
       "      <td>1</td>\n",
       "      <td>1</td>\n",
       "    </tr>\n",
       "  </tbody>\n",
       "</table>\n",
       "</div>"
      ],
      "text/plain": [
       "          hotel  is_canceled  lead_time  arrival_date_year arrival_date_month  \\\n",
       "0  Resort Hotel            0        342               2015               July   \n",
       "1  Resort Hotel            0        737               2015               July   \n",
       "2  Resort Hotel            0          7               2015               July   \n",
       "3  Resort Hotel            0         13               2015               July   \n",
       "4  Resort Hotel            0         14               2015               July   \n",
       "\n",
       "   arrival_date_week_number  arrival_date_day_of_month  \\\n",
       "0                        27                          1   \n",
       "1                        27                          1   \n",
       "2                        27                          1   \n",
       "3                        27                          1   \n",
       "4                        27                          1   \n",
       "\n",
       "   stays_in_weekend_nights  stays_in_week_nights  adults  children  babies  \\\n",
       "0                        0                     0       2       0.0       0   \n",
       "1                        0                     0       2       0.0       0   \n",
       "2                        0                     1       1       0.0       0   \n",
       "3                        0                     1       1       0.0       0   \n",
       "4                        0                     2       2       0.0       0   \n",
       "\n",
       "  meal market_segment  is_repeated_guest  previous_cancellations  \\\n",
       "0   BB         Direct                  0                       0   \n",
       "1   BB         Direct                  0                       0   \n",
       "2   BB         Direct                  0                       0   \n",
       "3   BB      Corporate                  0                       0   \n",
       "4   BB      Online TA                  0                       0   \n",
       "\n",
       "   previous_bookings_not_canceled  booking_changes deposit_type  \\\n",
       "0                               0                3   No Deposit   \n",
       "1                               0                4   No Deposit   \n",
       "2                               0                0   No Deposit   \n",
       "3                               0                0   No Deposit   \n",
       "4                               0                0   No Deposit   \n",
       "\n",
       "   days_in_waiting_list customer_type   adr  required_car_parking_spaces  \\\n",
       "0                     0     Transient   0.0                            0   \n",
       "1                     0     Transient   0.0                            0   \n",
       "2                     0     Transient  75.0                            0   \n",
       "3                     0     Transient  75.0                            0   \n",
       "4                     0     Transient  98.0                            0   \n",
       "\n",
       "   total_of_special_requests  Room_match  \n",
       "0                          0           1  \n",
       "1                          0           1  \n",
       "2                          0           0  \n",
       "3                          0           1  \n",
       "4                          1           1  "
      ]
     },
     "execution_count": 20,
     "metadata": {},
     "output_type": "execute_result"
    }
   ],
   "source": [
    "hotel_data.head()"
   ]
  },
  {
   "cell_type": "code",
   "execution_count": 21,
   "id": "e3ecf93a",
   "metadata": {},
   "outputs": [
    {
     "data": {
      "text/plain": [
       "is_canceled                       1.000000\n",
       "lead_time                         0.292876\n",
       "Room_match                        0.246768\n",
       "total_of_special_requests         0.234877\n",
       "required_car_parking_spaces       0.195701\n",
       "booking_changes                   0.144832\n",
       "previous_cancellations            0.110139\n",
       "is_repeated_guest                 0.083745\n",
       "adults                            0.058182\n",
       "previous_bookings_not_canceled    0.057365\n",
       "days_in_waiting_list              0.054301\n",
       "adr                               0.046492\n",
       "babies                            0.032569\n",
       "stays_in_week_nights              0.025542\n",
       "arrival_date_year                 0.016622\n",
       "arrival_date_week_number          0.008315\n",
       "arrival_date_day_of_month         0.005948\n",
       "children                          0.004851\n",
       "stays_in_weekend_nights           0.001323\n",
       "Name: is_canceled, dtype: float64"
      ]
     },
     "execution_count": 21,
     "metadata": {},
     "output_type": "execute_result"
    }
   ],
   "source": [
    "## Calculating the correlation of each feature with 'is_cancelled'.\n",
    "correlation = hotel_data.corr()['is_canceled'].abs().sort_values(ascending = False)\n",
    "correlation"
   ]
  },
  {
   "attachments": {},
   "cell_type": "markdown",
   "id": "39201a86",
   "metadata": {},
   "source": [
    "### 4. Model 1 - Binary Classification\n",
    "\n",
    "---"
   ]
  },
  {
   "attachments": {},
   "cell_type": "markdown",
   "id": "d24a66ea",
   "metadata": {},
   "source": [
    "- Defining the features and label.\n",
    "- Splitting the data set using HoldOut Validation first and then performing Stratified KFold for hyperparametric tuning.\n",
    "- Using stratified Kfold instead of normal K fold because, the stratification ensures that each fold is representative of the entire dataset with respect to the class distribution.\n",
    "- Stratified k-fold cv is particularly useful when dealing with imbalanced datasets, where the number of samples in each class is not equal. By ensuring that each fold has a balanced representation of each class, it helps to prevent bias in the evaluation of the model's performance.\n",
    "- Tried feature selection using backward and also using lasso but the model underperformed both the times. So we have included all the features for training the model and it performed well. \n",
    "- Further we performed hyperparameter tuning to check if the accuracy and overall performace of the model can be improved. We'll use GridSearchCV for this purpose."
   ]
  },
  {
   "cell_type": "code",
   "execution_count": 22,
   "id": "dc0a36da",
   "metadata": {},
   "outputs": [
    {
     "name": "stdout",
     "output_type": "stream",
     "text": [
      "['hotel', 'lead_time', 'arrival_date_year', 'arrival_date_month', 'arrival_date_week_number', 'arrival_date_day_of_month', 'stays_in_weekend_nights', 'stays_in_week_nights', 'adults', 'children', 'babies', 'meal', 'market_segment', 'is_repeated_guest', 'previous_cancellations', 'previous_bookings_not_canceled', 'booking_changes', 'deposit_type', 'days_in_waiting_list', 'customer_type', 'adr', 'required_car_parking_spaces', 'total_of_special_requests', 'Room_match']\n"
     ]
    }
   ],
   "source": [
    "## Defining the features and label.\n",
    "\n",
    "label    = 'is_canceled'\n",
    "features_log = [column for column in hotel_data.columns if column != label]\n",
    "X, y     = hotel_data[features_log], hotel_data[label]\n",
    "print(features_log)"
   ]
  },
  {
   "cell_type": "code",
   "execution_count": 23,
   "id": "a3744ffa",
   "metadata": {},
   "outputs": [],
   "source": [
    "## Splitting the data set using HoldOut Validation first and then performing Stratified KFold for hyperparametric tuning\n",
    "X_train, X_test1, y_train, y_test1 = train_test_split(X, y,stratify=y, test_size=0.3, random_state=420)\n",
    "skf = StratifiedKFold(n_splits=5, random_state=420, shuffle=True)"
   ]
  },
  {
   "attachments": {},
   "cell_type": "markdown",
   "id": "529276a5",
   "metadata": {},
   "source": [
    "#### 4.1 Logistic Regression Model - 'Predicting if the booking will be canceled or not'"
   ]
  },
  {
   "cell_type": "code",
   "execution_count": 24,
   "id": "46a51179",
   "metadata": {},
   "outputs": [
    {
     "name": "stdout",
     "output_type": "stream",
     "text": [
      "Index(['hotel', 'arrival_date_month', 'meal', 'market_segment', 'deposit_type',\n",
      "       'customer_type'],\n",
      "      dtype='object')\n"
     ]
    }
   ],
   "source": [
    "### Extracting all the categorical columns from our dataset\n",
    "\n",
    "cat_columns = hotel_data.select_dtypes(include=['object'])\n",
    "cat_columns_names = cat_columns.columns\n",
    "print(cat_columns_names)"
   ]
  },
  {
   "attachments": {},
   "cell_type": "markdown",
   "id": "938ab4a9",
   "metadata": {},
   "source": [
    "#### 4.1.1 Fitting the model"
   ]
  },
  {
   "cell_type": "code",
   "execution_count": 25,
   "id": "d4f82bc2",
   "metadata": {},
   "outputs": [],
   "source": [
    "### Defining a function that returns a pipeline performing OneHotEncoding, standardscaler and  logistic regression\n",
    "\n",
    "def get_logistic_model(features):\n",
    "    categorical_features = list(set(features) & set(['hotel', 'arrival_date_month', 'meal', 'market_segment','deposit_type', 'customer_type']))\n",
    "    numerical_features = [col for col in features if col not in categorical_features]\n",
    "    \n",
    "    \n",
    "    return make_pipeline(\n",
    "        ColumnTransformer(transformers=[\n",
    "             ('categorical', OneHotEncoder(handle_unknown='ignore'), categorical_features),\n",
    "             ('numerical', StandardScaler(), numerical_features)\n",
    "        ]),\n",
    "        LogisticRegression(penalty='l1', solver='liblinear', random_state=420))"
   ]
  },
  {
   "cell_type": "code",
   "execution_count": 26,
   "id": "28de8aed",
   "metadata": {},
   "outputs": [
    {
     "name": "stdout",
     "output_type": "stream",
     "text": [
      "              precision    recall  f1-score   support\n",
      "\n",
      "           0       0.81      0.93      0.86     52508\n",
      "           1       0.83      0.63      0.71     30939\n",
      "\n",
      "    accuracy                           0.81     83447\n",
      "   macro avg       0.82      0.78      0.79     83447\n",
      "weighted avg       0.82      0.81      0.81     83447\n",
      "\n",
      "              precision    recall  f1-score   support\n",
      "\n",
      "           0       0.81      0.93      0.86     22503\n",
      "           1       0.83      0.62      0.71     13260\n",
      "\n",
      "    accuracy                           0.81     35763\n",
      "   macro avg       0.82      0.77      0.79     35763\n",
      "weighted avg       0.82      0.81      0.81     35763\n",
      "\n"
     ]
    }
   ],
   "source": [
    "#Fitting the model and printing the classification report\n",
    "logit_reg = get_logistic_model(features_log)\n",
    "logit_reg.fit(X_train, y_train)\n",
    "y_pred_logit = logit_reg.predict(X_train)\n",
    "print(classification_report(y_train, logit_reg.predict(X_train)))\n",
    "print(classification_report(y_test1, logit_reg.predict(X_test1)))"
   ]
  },
  {
   "cell_type": "code",
   "execution_count": 27,
   "id": "062befd4",
   "metadata": {},
   "outputs": [
    {
     "name": "stdout",
     "output_type": "stream",
     "text": [
      "[[48632  3876]\n",
      " [11597 19342]]\n"
     ]
    }
   ],
   "source": [
    "#Printing Confusion Matrix\n",
    "cm = confusion_matrix(y_train, logit_reg.predict(X_train))\n",
    "print(cm)"
   ]
  },
  {
   "attachments": {},
   "cell_type": "markdown",
   "id": "6aa7e2ba",
   "metadata": {},
   "source": [
    "#### 4.1.2 Hyperparametric Tuning"
   ]
  },
  {
   "cell_type": "code",
   "execution_count": 28,
   "id": "1b02673b",
   "metadata": {},
   "outputs": [
    {
     "name": "stdout",
     "output_type": "stream",
     "text": [
      "Fitting 5 folds for each of 6 candidates, totalling 30 fits\n",
      "[CV 1/5] END logisticregression__C=0.01, logisticregression__tol=0.0001;, score=0.816 total time=   0.7s\n",
      "[CV 2/5] END logisticregression__C=0.01, logisticregression__tol=0.0001;, score=0.813 total time=   0.7s\n",
      "[CV 3/5] END logisticregression__C=0.01, logisticregression__tol=0.0001;, score=0.815 total time=   0.8s\n",
      "[CV 4/5] END logisticregression__C=0.01, logisticregression__tol=0.0001;, score=0.812 total time=   0.8s\n",
      "[CV 5/5] END logisticregression__C=0.01, logisticregression__tol=0.0001;, score=0.811 total time=   0.7s\n",
      "[CV 1/5] END logisticregression__C=0.01, logisticregression__tol=0.001;, score=0.816 total time=   0.6s\n",
      "[CV 2/5] END logisticregression__C=0.01, logisticregression__tol=0.001;, score=0.813 total time=   0.7s\n",
      "[CV 3/5] END logisticregression__C=0.01, logisticregression__tol=0.001;, score=0.815 total time=   0.7s\n",
      "[CV 4/5] END logisticregression__C=0.01, logisticregression__tol=0.001;, score=0.811 total time=   0.8s\n",
      "[CV 5/5] END logisticregression__C=0.01, logisticregression__tol=0.001;, score=0.811 total time=   0.8s\n",
      "[CV 1/5] END logisticregression__C=0.01, logisticregression__tol=0.01;, score=0.817 total time=   0.4s\n",
      "[CV 2/5] END logisticregression__C=0.01, logisticregression__tol=0.01;, score=0.813 total time=   0.3s\n",
      "[CV 3/5] END logisticregression__C=0.01, logisticregression__tol=0.01;, score=0.815 total time=   0.6s\n",
      "[CV 4/5] END logisticregression__C=0.01, logisticregression__tol=0.01;, score=0.812 total time=   0.7s\n",
      "[CV 5/5] END logisticregression__C=0.01, logisticregression__tol=0.01;, score=0.812 total time=   0.3s\n",
      "[CV 1/5] END logisticregression__C=0.1, logisticregression__tol=0.0001;, score=0.816 total time=   2.5s\n",
      "[CV 2/5] END logisticregression__C=0.1, logisticregression__tol=0.0001;, score=0.815 total time=   3.6s\n",
      "[CV 3/5] END logisticregression__C=0.1, logisticregression__tol=0.0001;, score=0.817 total time=   3.1s\n",
      "[CV 4/5] END logisticregression__C=0.1, logisticregression__tol=0.0001;, score=0.813 total time=   3.4s\n",
      "[CV 5/5] END logisticregression__C=0.1, logisticregression__tol=0.0001;, score=0.813 total time=   4.1s\n",
      "[CV 1/5] END logisticregression__C=0.1, logisticregression__tol=0.001;, score=0.816 total time=   2.3s\n",
      "[CV 2/5] END logisticregression__C=0.1, logisticregression__tol=0.001;, score=0.815 total time=   1.5s\n",
      "[CV 3/5] END logisticregression__C=0.1, logisticregression__tol=0.001;, score=0.817 total time=   1.4s\n",
      "[CV 4/5] END logisticregression__C=0.1, logisticregression__tol=0.001;, score=0.813 total time=   0.9s\n",
      "[CV 5/5] END logisticregression__C=0.1, logisticregression__tol=0.001;, score=0.813 total time=   2.2s\n",
      "[CV 1/5] END logisticregression__C=0.1, logisticregression__tol=0.01;, score=0.817 total time=   0.2s\n",
      "[CV 2/5] END logisticregression__C=0.1, logisticregression__tol=0.01;, score=0.815 total time=   0.2s\n",
      "[CV 3/5] END logisticregression__C=0.1, logisticregression__tol=0.01;, score=0.816 total time=   0.3s\n",
      "[CV 4/5] END logisticregression__C=0.1, logisticregression__tol=0.01;, score=0.813 total time=   0.2s\n",
      "[CV 5/5] END logisticregression__C=0.1, logisticregression__tol=0.01;, score=0.813 total time=   0.2s\n",
      "Best hyperparameters:  {'logisticregression__C': 0.1, 'logisticregression__tol': 0.01}\n",
      "Best Accuracy:  0.8150083049289147\n"
     ]
    }
   ],
   "source": [
    "# Define the parameter grid to search over\n",
    "LRparam_grid = {\n",
    "    'logisticregression__C': [ 0.01, 0.1],\n",
    "    'logisticregression__tol': [0.0001, 0.001, 0.01]\n",
    "}\n",
    "\n",
    "model = get_logistic_model(features_log)\n",
    "\n",
    "# Create the grid search object\n",
    "grid_search = GridSearchCV(model, param_grid=LRparam_grid, cv=skf, verbose = 3, scoring='accuracy')\n",
    "\n",
    "# Fit the grid search object on the training set\n",
    "grid_search.fit(X_train, y_train)\n",
    "\n",
    "# Print the best hyperparameters and the corresponding mean squared error\n",
    "print(\"Best hyperparameters: \", grid_search.best_params_)\n",
    "print(\"Best Accuracy: \", grid_search.best_score_)        "
   ]
  },
  {
   "attachments": {},
   "cell_type": "markdown",
   "id": "f5abf87a",
   "metadata": {},
   "source": [
    "- For Gridsearch CV we are using the parameters 'logisticregression__C' & 'logisticregression__tol' to extract the best hyperparameters for our model.\n",
    "- We are not using the parameter 'max_iter' since we are using penalty 'l1'.\n",
    "- We get the best hyperparameters as 'logisticregression__C': 0.1, 'logisticregression__tol': 0.01'\n"
   ]
  },
  {
   "cell_type": "code",
   "execution_count": 29,
   "id": "5aad2f0d",
   "metadata": {},
   "outputs": [],
   "source": [
    "### Defining the categorical & Numerical features for hyperparameter tuning\n",
    "categorical_features = list(set(features_log) & set(['hotel', 'arrival_date_month', 'meal', 'market_segment','deposit_type', 'customer_type']))\n",
    "numerical_features   = [col for col in features_log if col not in categorical_features]"
   ]
  },
  {
   "cell_type": "code",
   "execution_count": 30,
   "id": "9ee7d5a0",
   "metadata": {},
   "outputs": [
    {
     "data": {
      "text/html": [
       "<style>#sk-container-id-1 {color: black;background-color: white;}#sk-container-id-1 pre{padding: 0;}#sk-container-id-1 div.sk-toggleable {background-color: white;}#sk-container-id-1 label.sk-toggleable__label {cursor: pointer;display: block;width: 100%;margin-bottom: 0;padding: 0.3em;box-sizing: border-box;text-align: center;}#sk-container-id-1 label.sk-toggleable__label-arrow:before {content: \"▸\";float: left;margin-right: 0.25em;color: #696969;}#sk-container-id-1 label.sk-toggleable__label-arrow:hover:before {color: black;}#sk-container-id-1 div.sk-estimator:hover label.sk-toggleable__label-arrow:before {color: black;}#sk-container-id-1 div.sk-toggleable__content {max-height: 0;max-width: 0;overflow: hidden;text-align: left;background-color: #f0f8ff;}#sk-container-id-1 div.sk-toggleable__content pre {margin: 0.2em;color: black;border-radius: 0.25em;background-color: #f0f8ff;}#sk-container-id-1 input.sk-toggleable__control:checked~div.sk-toggleable__content {max-height: 200px;max-width: 100%;overflow: auto;}#sk-container-id-1 input.sk-toggleable__control:checked~label.sk-toggleable__label-arrow:before {content: \"▾\";}#sk-container-id-1 div.sk-estimator input.sk-toggleable__control:checked~label.sk-toggleable__label {background-color: #d4ebff;}#sk-container-id-1 div.sk-label input.sk-toggleable__control:checked~label.sk-toggleable__label {background-color: #d4ebff;}#sk-container-id-1 input.sk-hidden--visually {border: 0;clip: rect(1px 1px 1px 1px);clip: rect(1px, 1px, 1px, 1px);height: 1px;margin: -1px;overflow: hidden;padding: 0;position: absolute;width: 1px;}#sk-container-id-1 div.sk-estimator {font-family: monospace;background-color: #f0f8ff;border: 1px dotted black;border-radius: 0.25em;box-sizing: border-box;margin-bottom: 0.5em;}#sk-container-id-1 div.sk-estimator:hover {background-color: #d4ebff;}#sk-container-id-1 div.sk-parallel-item::after {content: \"\";width: 100%;border-bottom: 1px solid gray;flex-grow: 1;}#sk-container-id-1 div.sk-label:hover label.sk-toggleable__label {background-color: #d4ebff;}#sk-container-id-1 div.sk-serial::before {content: \"\";position: absolute;border-left: 1px solid gray;box-sizing: border-box;top: 0;bottom: 0;left: 50%;z-index: 0;}#sk-container-id-1 div.sk-serial {display: flex;flex-direction: column;align-items: center;background-color: white;padding-right: 0.2em;padding-left: 0.2em;position: relative;}#sk-container-id-1 div.sk-item {position: relative;z-index: 1;}#sk-container-id-1 div.sk-parallel {display: flex;align-items: stretch;justify-content: center;background-color: white;position: relative;}#sk-container-id-1 div.sk-item::before, #sk-container-id-1 div.sk-parallel-item::before {content: \"\";position: absolute;border-left: 1px solid gray;box-sizing: border-box;top: 0;bottom: 0;left: 50%;z-index: -1;}#sk-container-id-1 div.sk-parallel-item {display: flex;flex-direction: column;z-index: 1;position: relative;background-color: white;}#sk-container-id-1 div.sk-parallel-item:first-child::after {align-self: flex-end;width: 50%;}#sk-container-id-1 div.sk-parallel-item:last-child::after {align-self: flex-start;width: 50%;}#sk-container-id-1 div.sk-parallel-item:only-child::after {width: 0;}#sk-container-id-1 div.sk-dashed-wrapped {border: 1px dashed gray;margin: 0 0.4em 0.5em 0.4em;box-sizing: border-box;padding-bottom: 0.4em;background-color: white;}#sk-container-id-1 div.sk-label label {font-family: monospace;font-weight: bold;display: inline-block;line-height: 1.2em;}#sk-container-id-1 div.sk-label-container {text-align: center;}#sk-container-id-1 div.sk-container {/* jupyter's `normalize.less` sets `[hidden] { display: none; }` but bootstrap.min.css set `[hidden] { display: none !important; }` so we also need the `!important` here to be able to override the default hidden behavior on the sphinx rendered scikit-learn.org. See: https://github.com/scikit-learn/scikit-learn/issues/21755 */display: inline-block !important;position: relative;}#sk-container-id-1 div.sk-text-repr-fallback {display: none;}</style><div id=\"sk-container-id-1\" class=\"sk-top-container\"><div class=\"sk-text-repr-fallback\"><pre>Pipeline(steps=[(&#x27;columntransformer&#x27;,\n",
       "                 ColumnTransformer(transformers=[(&#x27;categorical&#x27;,\n",
       "                                                  OneHotEncoder(handle_unknown=&#x27;ignore&#x27;),\n",
       "                                                  [&#x27;customer_type&#x27;,\n",
       "                                                   &#x27;deposit_type&#x27;, &#x27;meal&#x27;,\n",
       "                                                   &#x27;hotel&#x27;, &#x27;market_segment&#x27;,\n",
       "                                                   &#x27;arrival_date_month&#x27;]),\n",
       "                                                 (&#x27;numerical&#x27;, StandardScaler(),\n",
       "                                                  [&#x27;lead_time&#x27;,\n",
       "                                                   &#x27;arrival_date_year&#x27;,\n",
       "                                                   &#x27;arrival_date_week_number&#x27;,\n",
       "                                                   &#x27;arrival_date_day_of_month&#x27;,\n",
       "                                                   &#x27;stays_in_weekend_nigh...\n",
       "                                                   &#x27;stays_in_week_nights&#x27;,\n",
       "                                                   &#x27;adults&#x27;, &#x27;children&#x27;,\n",
       "                                                   &#x27;babies&#x27;,\n",
       "                                                   &#x27;is_repeated_guest&#x27;,\n",
       "                                                   &#x27;previous_cancellations&#x27;,\n",
       "                                                   &#x27;previous_bookings_not_canceled&#x27;,\n",
       "                                                   &#x27;booking_changes&#x27;,\n",
       "                                                   &#x27;days_in_waiting_list&#x27;,\n",
       "                                                   &#x27;adr&#x27;,\n",
       "                                                   &#x27;required_car_parking_spaces&#x27;,\n",
       "                                                   &#x27;total_of_special_requests&#x27;,\n",
       "                                                   &#x27;Room_match&#x27;])])),\n",
       "                (&#x27;logisticregression&#x27;,\n",
       "                 LogisticRegression(C=0.01, penalty=&#x27;l1&#x27;, random_state=420,\n",
       "                                    solver=&#x27;liblinear&#x27;, tol=0.01))])</pre><b>In a Jupyter environment, please rerun this cell to show the HTML representation or trust the notebook. <br />On GitHub, the HTML representation is unable to render, please try loading this page with nbviewer.org.</b></div><div class=\"sk-container\" hidden><div class=\"sk-item sk-dashed-wrapped\"><div class=\"sk-label-container\"><div class=\"sk-label sk-toggleable\"><input class=\"sk-toggleable__control sk-hidden--visually\" id=\"sk-estimator-id-1\" type=\"checkbox\" ><label for=\"sk-estimator-id-1\" class=\"sk-toggleable__label sk-toggleable__label-arrow\">Pipeline</label><div class=\"sk-toggleable__content\"><pre>Pipeline(steps=[(&#x27;columntransformer&#x27;,\n",
       "                 ColumnTransformer(transformers=[(&#x27;categorical&#x27;,\n",
       "                                                  OneHotEncoder(handle_unknown=&#x27;ignore&#x27;),\n",
       "                                                  [&#x27;customer_type&#x27;,\n",
       "                                                   &#x27;deposit_type&#x27;, &#x27;meal&#x27;,\n",
       "                                                   &#x27;hotel&#x27;, &#x27;market_segment&#x27;,\n",
       "                                                   &#x27;arrival_date_month&#x27;]),\n",
       "                                                 (&#x27;numerical&#x27;, StandardScaler(),\n",
       "                                                  [&#x27;lead_time&#x27;,\n",
       "                                                   &#x27;arrival_date_year&#x27;,\n",
       "                                                   &#x27;arrival_date_week_number&#x27;,\n",
       "                                                   &#x27;arrival_date_day_of_month&#x27;,\n",
       "                                                   &#x27;stays_in_weekend_nigh...\n",
       "                                                   &#x27;stays_in_week_nights&#x27;,\n",
       "                                                   &#x27;adults&#x27;, &#x27;children&#x27;,\n",
       "                                                   &#x27;babies&#x27;,\n",
       "                                                   &#x27;is_repeated_guest&#x27;,\n",
       "                                                   &#x27;previous_cancellations&#x27;,\n",
       "                                                   &#x27;previous_bookings_not_canceled&#x27;,\n",
       "                                                   &#x27;booking_changes&#x27;,\n",
       "                                                   &#x27;days_in_waiting_list&#x27;,\n",
       "                                                   &#x27;adr&#x27;,\n",
       "                                                   &#x27;required_car_parking_spaces&#x27;,\n",
       "                                                   &#x27;total_of_special_requests&#x27;,\n",
       "                                                   &#x27;Room_match&#x27;])])),\n",
       "                (&#x27;logisticregression&#x27;,\n",
       "                 LogisticRegression(C=0.01, penalty=&#x27;l1&#x27;, random_state=420,\n",
       "                                    solver=&#x27;liblinear&#x27;, tol=0.01))])</pre></div></div></div><div class=\"sk-serial\"><div class=\"sk-item sk-dashed-wrapped\"><div class=\"sk-label-container\"><div class=\"sk-label sk-toggleable\"><input class=\"sk-toggleable__control sk-hidden--visually\" id=\"sk-estimator-id-2\" type=\"checkbox\" ><label for=\"sk-estimator-id-2\" class=\"sk-toggleable__label sk-toggleable__label-arrow\">columntransformer: ColumnTransformer</label><div class=\"sk-toggleable__content\"><pre>ColumnTransformer(transformers=[(&#x27;categorical&#x27;,\n",
       "                                 OneHotEncoder(handle_unknown=&#x27;ignore&#x27;),\n",
       "                                 [&#x27;customer_type&#x27;, &#x27;deposit_type&#x27;, &#x27;meal&#x27;,\n",
       "                                  &#x27;hotel&#x27;, &#x27;market_segment&#x27;,\n",
       "                                  &#x27;arrival_date_month&#x27;]),\n",
       "                                (&#x27;numerical&#x27;, StandardScaler(),\n",
       "                                 [&#x27;lead_time&#x27;, &#x27;arrival_date_year&#x27;,\n",
       "                                  &#x27;arrival_date_week_number&#x27;,\n",
       "                                  &#x27;arrival_date_day_of_month&#x27;,\n",
       "                                  &#x27;stays_in_weekend_nights&#x27;,\n",
       "                                  &#x27;stays_in_week_nights&#x27;, &#x27;adults&#x27;, &#x27;children&#x27;,\n",
       "                                  &#x27;babies&#x27;, &#x27;is_repeated_guest&#x27;,\n",
       "                                  &#x27;previous_cancellations&#x27;,\n",
       "                                  &#x27;previous_bookings_not_canceled&#x27;,\n",
       "                                  &#x27;booking_changes&#x27;, &#x27;days_in_waiting_list&#x27;,\n",
       "                                  &#x27;adr&#x27;, &#x27;required_car_parking_spaces&#x27;,\n",
       "                                  &#x27;total_of_special_requests&#x27;, &#x27;Room_match&#x27;])])</pre></div></div></div><div class=\"sk-parallel\"><div class=\"sk-parallel-item\"><div class=\"sk-item\"><div class=\"sk-label-container\"><div class=\"sk-label sk-toggleable\"><input class=\"sk-toggleable__control sk-hidden--visually\" id=\"sk-estimator-id-3\" type=\"checkbox\" ><label for=\"sk-estimator-id-3\" class=\"sk-toggleable__label sk-toggleable__label-arrow\">categorical</label><div class=\"sk-toggleable__content\"><pre>[&#x27;customer_type&#x27;, &#x27;deposit_type&#x27;, &#x27;meal&#x27;, &#x27;hotel&#x27;, &#x27;market_segment&#x27;, &#x27;arrival_date_month&#x27;]</pre></div></div></div><div class=\"sk-serial\"><div class=\"sk-item\"><div class=\"sk-estimator sk-toggleable\"><input class=\"sk-toggleable__control sk-hidden--visually\" id=\"sk-estimator-id-4\" type=\"checkbox\" ><label for=\"sk-estimator-id-4\" class=\"sk-toggleable__label sk-toggleable__label-arrow\">OneHotEncoder</label><div class=\"sk-toggleable__content\"><pre>OneHotEncoder(handle_unknown=&#x27;ignore&#x27;)</pre></div></div></div></div></div></div><div class=\"sk-parallel-item\"><div class=\"sk-item\"><div class=\"sk-label-container\"><div class=\"sk-label sk-toggleable\"><input class=\"sk-toggleable__control sk-hidden--visually\" id=\"sk-estimator-id-5\" type=\"checkbox\" ><label for=\"sk-estimator-id-5\" class=\"sk-toggleable__label sk-toggleable__label-arrow\">numerical</label><div class=\"sk-toggleable__content\"><pre>[&#x27;lead_time&#x27;, &#x27;arrival_date_year&#x27;, &#x27;arrival_date_week_number&#x27;, &#x27;arrival_date_day_of_month&#x27;, &#x27;stays_in_weekend_nights&#x27;, &#x27;stays_in_week_nights&#x27;, &#x27;adults&#x27;, &#x27;children&#x27;, &#x27;babies&#x27;, &#x27;is_repeated_guest&#x27;, &#x27;previous_cancellations&#x27;, &#x27;previous_bookings_not_canceled&#x27;, &#x27;booking_changes&#x27;, &#x27;days_in_waiting_list&#x27;, &#x27;adr&#x27;, &#x27;required_car_parking_spaces&#x27;, &#x27;total_of_special_requests&#x27;, &#x27;Room_match&#x27;]</pre></div></div></div><div class=\"sk-serial\"><div class=\"sk-item\"><div class=\"sk-estimator sk-toggleable\"><input class=\"sk-toggleable__control sk-hidden--visually\" id=\"sk-estimator-id-6\" type=\"checkbox\" ><label for=\"sk-estimator-id-6\" class=\"sk-toggleable__label sk-toggleable__label-arrow\">StandardScaler</label><div class=\"sk-toggleable__content\"><pre>StandardScaler()</pre></div></div></div></div></div></div></div></div><div class=\"sk-item\"><div class=\"sk-estimator sk-toggleable\"><input class=\"sk-toggleable__control sk-hidden--visually\" id=\"sk-estimator-id-7\" type=\"checkbox\" ><label for=\"sk-estimator-id-7\" class=\"sk-toggleable__label sk-toggleable__label-arrow\">LogisticRegression</label><div class=\"sk-toggleable__content\"><pre>LogisticRegression(C=0.01, penalty=&#x27;l1&#x27;, random_state=420, solver=&#x27;liblinear&#x27;,\n",
       "                   tol=0.01)</pre></div></div></div></div></div></div></div>"
      ],
      "text/plain": [
       "Pipeline(steps=[('columntransformer',\n",
       "                 ColumnTransformer(transformers=[('categorical',\n",
       "                                                  OneHotEncoder(handle_unknown='ignore'),\n",
       "                                                  ['customer_type',\n",
       "                                                   'deposit_type', 'meal',\n",
       "                                                   'hotel', 'market_segment',\n",
       "                                                   'arrival_date_month']),\n",
       "                                                 ('numerical', StandardScaler(),\n",
       "                                                  ['lead_time',\n",
       "                                                   'arrival_date_year',\n",
       "                                                   'arrival_date_week_number',\n",
       "                                                   'arrival_date_day_of_month',\n",
       "                                                   'stays_in_weekend_nigh...\n",
       "                                                   'stays_in_week_nights',\n",
       "                                                   'adults', 'children',\n",
       "                                                   'babies',\n",
       "                                                   'is_repeated_guest',\n",
       "                                                   'previous_cancellations',\n",
       "                                                   'previous_bookings_not_canceled',\n",
       "                                                   'booking_changes',\n",
       "                                                   'days_in_waiting_list',\n",
       "                                                   'adr',\n",
       "                                                   'required_car_parking_spaces',\n",
       "                                                   'total_of_special_requests',\n",
       "                                                   'Room_match'])])),\n",
       "                ('logisticregression',\n",
       "                 LogisticRegression(C=0.01, penalty='l1', random_state=420,\n",
       "                                    solver='liblinear', tol=0.01))])"
      ]
     },
     "execution_count": 30,
     "metadata": {},
     "output_type": "execute_result"
    }
   ],
   "source": [
    "#Logistic Regression after Hyperparametric Tuning - using the parameters we obtained above\n",
    "logit_reg_hyp = make_pipeline(ColumnTransformer(transformers=[('categorical', OneHotEncoder(handle_unknown='ignore'), categorical_features), ('numerical', StandardScaler(), numerical_features)]),\n",
    "                              LogisticRegression(C=0.01, penalty='l1', tol= 0.01,  solver='liblinear', random_state=420))\n",
    "logit_reg_hyp.fit(X_train, y_train)"
   ]
  },
  {
   "cell_type": "code",
   "execution_count": 31,
   "id": "97fd6e84",
   "metadata": {},
   "outputs": [
    {
     "data": {
      "text/plain": [
       "array([[48952,  3556],\n",
       "       [11984, 18955]], dtype=int64)"
      ]
     },
     "execution_count": 31,
     "metadata": {},
     "output_type": "execute_result"
    }
   ],
   "source": [
    "### Confusion matrix for training data\n",
    "cm = confusion_matrix(y_train, logit_reg_hyp.predict(X_train))\n",
    "cm"
   ]
  },
  {
   "cell_type": "code",
   "execution_count": 32,
   "id": "3f6835d5",
   "metadata": {},
   "outputs": [
    {
     "name": "stdout",
     "output_type": "stream",
     "text": [
      "              precision    recall  f1-score   support\n",
      "\n",
      "           0       0.80      0.93      0.86     52508\n",
      "           1       0.84      0.61      0.71     30939\n",
      "\n",
      "    accuracy                           0.81     83447\n",
      "   macro avg       0.82      0.77      0.79     83447\n",
      "weighted avg       0.82      0.81      0.81     83447\n",
      "\n",
      "              precision    recall  f1-score   support\n",
      "\n",
      "           0       0.80      0.93      0.86     22503\n",
      "           1       0.84      0.61      0.71     13260\n",
      "\n",
      "    accuracy                           0.81     35763\n",
      "   macro avg       0.82      0.77      0.78     35763\n",
      "weighted avg       0.82      0.81      0.80     35763\n",
      "\n"
     ]
    }
   ],
   "source": [
    "print(classification_report(y_train, logit_reg_hyp.predict(X_train)))\n",
    "print(classification_report(y_test1, logit_reg_hyp.predict(X_test1)))"
   ]
  },
  {
   "cell_type": "markdown",
   "id": "8c50a913",
   "metadata": {},
   "source": [
    "#### Comments:\n",
    "\n",
    "- As we can see from the above classification report, our accuracy on training and test set remains the same i.e. 81% & F1 score also stays the same i.e 0.86 for class '0' & 0.71 for class '1'"
   ]
  },
  {
   "attachments": {},
   "cell_type": "markdown",
   "id": "87097b71",
   "metadata": {},
   "source": [
    "\n",
    "### 5. Model 2 :- Regression\n",
    "---\n",
    "#### 5.1 Data Preparation\n",
    "1. Filtering out the cancelled data from the original dataset. \n",
    "2. We have created a new column 'arrival_date' using arrival date information from other columns.\n",
    "3. Since we don't have the data to predict how many days in advance the guest cancels, we created a new column ' No. of Days Cancellation'  using 'arrival date' and 'reservation status date'.\n",
    "4. Dropping the repeated columns."
   ]
  },
  {
   "cell_type": "code",
   "execution_count": 33,
   "id": "464a0e5b",
   "metadata": {},
   "outputs": [
    {
     "data": {
      "text/plain": [
       "(119390, 32)"
      ]
     },
     "execution_count": 33,
     "metadata": {},
     "output_type": "execute_result"
    }
   ],
   "source": [
    "clean_data.shape"
   ]
  },
  {
   "cell_type": "code",
   "execution_count": 34,
   "id": "78516cdf",
   "metadata": {},
   "outputs": [
    {
     "data": {
      "text/plain": [
       "(44224, 32)"
      ]
     },
     "execution_count": 34,
     "metadata": {},
     "output_type": "execute_result"
    }
   ],
   "source": [
    "clean_data.drop(clean_data[clean_data['is_canceled'] == 0].index, inplace = True)\n",
    "clean_data.shape"
   ]
  },
  {
   "cell_type": "code",
   "execution_count": 35,
   "id": "d7b36a33",
   "metadata": {},
   "outputs": [
    {
     "data": {
      "text/plain": [
       "8        56 days\n",
       "9        70 days\n",
       "10        8 days\n",
       "27       51 days\n",
       "32       33 days\n",
       "           ...  \n",
       "110280    0 days\n",
       "111355    0 days\n",
       "111924    0 days\n",
       "111925    0 days\n",
       "117295    0 days\n",
       "Name: no_of_days_cancellation, Length: 44224, dtype: timedelta64[ns]"
      ]
     },
     "execution_count": 35,
     "metadata": {},
     "output_type": "execute_result"
    }
   ],
   "source": [
    "# Creating 'arrival_date' column\n",
    "\n",
    "def map_months(x):\n",
    "\n",
    "  if x == 'January':\n",
    "    x = 1\n",
    "  elif x == 'February':\n",
    "    x = 2\n",
    "  elif x == 'March':\n",
    "    x = 3\n",
    "  elif x == 'April':\n",
    "    x = 4\n",
    "  elif x == 'May':\n",
    "    x = 5\n",
    "  elif x == 'June':\n",
    "    x = 6\n",
    "  elif x == 'July':\n",
    "    x = 7\n",
    "  elif x == 'August':\n",
    "    x = 8\n",
    "  elif x == 'September':\n",
    "    x = 9\n",
    "  elif x == 'October':\n",
    "    x = 10\n",
    "  elif x == 'November':\n",
    "    x = 11\n",
    "    \n",
    "  elif x == 'December':\n",
    "    x = 12\n",
    "  return x\n",
    "\n",
    "clean_data['arrival_date_month_number'] = clean_data['arrival_date_month'].apply(lambda x : map_months(x))\n",
    "clean_data['arrival_date'] = clean_data['arrival_date_month_number'].astype('str') + '/'+ clean_data['arrival_date_day_of_month'].astype('str') + '/' +  clean_data['arrival_date_year'].astype('str')\n",
    "clean_data['arrival_date'] = pd.to_datetime(clean_data['arrival_date'])\n",
    "clean_data['reservation_status_date'] = pd.to_datetime(clean_data['reservation_status_date'])\n",
    "clean_data['no_of_days_cancellation'] = clean_data['arrival_date'] - clean_data['reservation_status_date']\n",
    "clean_data['no_of_days_cancellation']"
   ]
  },
  {
   "cell_type": "code",
   "execution_count": 36,
   "id": "c55db31f",
   "metadata": {},
   "outputs": [
    {
     "data": {
      "text/html": [
       "<div>\n",
       "<style scoped>\n",
       "    .dataframe tbody tr th:only-of-type {\n",
       "        vertical-align: middle;\n",
       "    }\n",
       "\n",
       "    .dataframe tbody tr th {\n",
       "        vertical-align: top;\n",
       "    }\n",
       "\n",
       "    .dataframe thead th {\n",
       "        text-align: right;\n",
       "    }\n",
       "</style>\n",
       "<table border=\"1\" class=\"dataframe\">\n",
       "  <thead>\n",
       "    <tr style=\"text-align: right;\">\n",
       "      <th></th>\n",
       "      <th>hotel</th>\n",
       "      <th>is_canceled</th>\n",
       "      <th>lead_time</th>\n",
       "      <th>arrival_date_year</th>\n",
       "      <th>arrival_date_month</th>\n",
       "      <th>arrival_date_week_number</th>\n",
       "      <th>arrival_date_day_of_month</th>\n",
       "      <th>stays_in_weekend_nights</th>\n",
       "      <th>stays_in_week_nights</th>\n",
       "      <th>adults</th>\n",
       "      <th>children</th>\n",
       "      <th>babies</th>\n",
       "      <th>meal</th>\n",
       "      <th>country</th>\n",
       "      <th>market_segment</th>\n",
       "      <th>distribution_channel</th>\n",
       "      <th>is_repeated_guest</th>\n",
       "      <th>previous_cancellations</th>\n",
       "      <th>previous_bookings_not_canceled</th>\n",
       "      <th>reserved_room_type</th>\n",
       "      <th>assigned_room_type</th>\n",
       "      <th>booking_changes</th>\n",
       "      <th>deposit_type</th>\n",
       "      <th>agent</th>\n",
       "      <th>company</th>\n",
       "      <th>days_in_waiting_list</th>\n",
       "      <th>customer_type</th>\n",
       "      <th>adr</th>\n",
       "      <th>required_car_parking_spaces</th>\n",
       "      <th>total_of_special_requests</th>\n",
       "      <th>reservation_status</th>\n",
       "      <th>reservation_status_date</th>\n",
       "      <th>arrival_date_month_number</th>\n",
       "      <th>arrival_date</th>\n",
       "      <th>no_of_days_cancellation</th>\n",
       "    </tr>\n",
       "  </thead>\n",
       "  <tbody>\n",
       "    <tr>\n",
       "      <th>8</th>\n",
       "      <td>Resort Hotel</td>\n",
       "      <td>1</td>\n",
       "      <td>85</td>\n",
       "      <td>2015</td>\n",
       "      <td>July</td>\n",
       "      <td>27</td>\n",
       "      <td>1</td>\n",
       "      <td>0</td>\n",
       "      <td>3</td>\n",
       "      <td>2</td>\n",
       "      <td>0.0</td>\n",
       "      <td>0</td>\n",
       "      <td>BB</td>\n",
       "      <td>PRT</td>\n",
       "      <td>Online TA</td>\n",
       "      <td>TA/TO</td>\n",
       "      <td>0</td>\n",
       "      <td>0</td>\n",
       "      <td>0</td>\n",
       "      <td>A</td>\n",
       "      <td>A</td>\n",
       "      <td>0</td>\n",
       "      <td>No Deposit</td>\n",
       "      <td>240.0</td>\n",
       "      <td>NaN</td>\n",
       "      <td>0</td>\n",
       "      <td>Transient</td>\n",
       "      <td>82.0</td>\n",
       "      <td>0</td>\n",
       "      <td>1</td>\n",
       "      <td>Canceled</td>\n",
       "      <td>2015-05-06</td>\n",
       "      <td>7</td>\n",
       "      <td>2015-07-01</td>\n",
       "      <td>56</td>\n",
       "    </tr>\n",
       "    <tr>\n",
       "      <th>9</th>\n",
       "      <td>Resort Hotel</td>\n",
       "      <td>1</td>\n",
       "      <td>75</td>\n",
       "      <td>2015</td>\n",
       "      <td>July</td>\n",
       "      <td>27</td>\n",
       "      <td>1</td>\n",
       "      <td>0</td>\n",
       "      <td>3</td>\n",
       "      <td>2</td>\n",
       "      <td>0.0</td>\n",
       "      <td>0</td>\n",
       "      <td>HB</td>\n",
       "      <td>PRT</td>\n",
       "      <td>Offline TA/TO</td>\n",
       "      <td>TA/TO</td>\n",
       "      <td>0</td>\n",
       "      <td>0</td>\n",
       "      <td>0</td>\n",
       "      <td>D</td>\n",
       "      <td>D</td>\n",
       "      <td>0</td>\n",
       "      <td>No Deposit</td>\n",
       "      <td>15.0</td>\n",
       "      <td>NaN</td>\n",
       "      <td>0</td>\n",
       "      <td>Transient</td>\n",
       "      <td>105.5</td>\n",
       "      <td>0</td>\n",
       "      <td>0</td>\n",
       "      <td>Canceled</td>\n",
       "      <td>2015-04-22</td>\n",
       "      <td>7</td>\n",
       "      <td>2015-07-01</td>\n",
       "      <td>70</td>\n",
       "    </tr>\n",
       "    <tr>\n",
       "      <th>10</th>\n",
       "      <td>Resort Hotel</td>\n",
       "      <td>1</td>\n",
       "      <td>23</td>\n",
       "      <td>2015</td>\n",
       "      <td>July</td>\n",
       "      <td>27</td>\n",
       "      <td>1</td>\n",
       "      <td>0</td>\n",
       "      <td>4</td>\n",
       "      <td>2</td>\n",
       "      <td>0.0</td>\n",
       "      <td>0</td>\n",
       "      <td>BB</td>\n",
       "      <td>PRT</td>\n",
       "      <td>Online TA</td>\n",
       "      <td>TA/TO</td>\n",
       "      <td>0</td>\n",
       "      <td>0</td>\n",
       "      <td>0</td>\n",
       "      <td>E</td>\n",
       "      <td>E</td>\n",
       "      <td>0</td>\n",
       "      <td>No Deposit</td>\n",
       "      <td>240.0</td>\n",
       "      <td>NaN</td>\n",
       "      <td>0</td>\n",
       "      <td>Transient</td>\n",
       "      <td>123.0</td>\n",
       "      <td>0</td>\n",
       "      <td>0</td>\n",
       "      <td>Canceled</td>\n",
       "      <td>2015-06-23</td>\n",
       "      <td>7</td>\n",
       "      <td>2015-07-01</td>\n",
       "      <td>8</td>\n",
       "    </tr>\n",
       "    <tr>\n",
       "      <th>27</th>\n",
       "      <td>Resort Hotel</td>\n",
       "      <td>1</td>\n",
       "      <td>60</td>\n",
       "      <td>2015</td>\n",
       "      <td>July</td>\n",
       "      <td>27</td>\n",
       "      <td>1</td>\n",
       "      <td>2</td>\n",
       "      <td>5</td>\n",
       "      <td>2</td>\n",
       "      <td>0.0</td>\n",
       "      <td>0</td>\n",
       "      <td>BB</td>\n",
       "      <td>PRT</td>\n",
       "      <td>Online TA</td>\n",
       "      <td>TA/TO</td>\n",
       "      <td>0</td>\n",
       "      <td>0</td>\n",
       "      <td>0</td>\n",
       "      <td>E</td>\n",
       "      <td>E</td>\n",
       "      <td>0</td>\n",
       "      <td>No Deposit</td>\n",
       "      <td>240.0</td>\n",
       "      <td>NaN</td>\n",
       "      <td>0</td>\n",
       "      <td>Transient</td>\n",
       "      <td>107.0</td>\n",
       "      <td>0</td>\n",
       "      <td>2</td>\n",
       "      <td>Canceled</td>\n",
       "      <td>2015-05-11</td>\n",
       "      <td>7</td>\n",
       "      <td>2015-07-01</td>\n",
       "      <td>51</td>\n",
       "    </tr>\n",
       "    <tr>\n",
       "      <th>32</th>\n",
       "      <td>Resort Hotel</td>\n",
       "      <td>1</td>\n",
       "      <td>96</td>\n",
       "      <td>2015</td>\n",
       "      <td>July</td>\n",
       "      <td>27</td>\n",
       "      <td>1</td>\n",
       "      <td>2</td>\n",
       "      <td>8</td>\n",
       "      <td>2</td>\n",
       "      <td>0.0</td>\n",
       "      <td>0</td>\n",
       "      <td>BB</td>\n",
       "      <td>PRT</td>\n",
       "      <td>Direct</td>\n",
       "      <td>Direct</td>\n",
       "      <td>0</td>\n",
       "      <td>0</td>\n",
       "      <td>0</td>\n",
       "      <td>E</td>\n",
       "      <td>E</td>\n",
       "      <td>0</td>\n",
       "      <td>No Deposit</td>\n",
       "      <td>NaN</td>\n",
       "      <td>NaN</td>\n",
       "      <td>0</td>\n",
       "      <td>Transient</td>\n",
       "      <td>108.3</td>\n",
       "      <td>0</td>\n",
       "      <td>2</td>\n",
       "      <td>Canceled</td>\n",
       "      <td>2015-05-29</td>\n",
       "      <td>7</td>\n",
       "      <td>2015-07-01</td>\n",
       "      <td>33</td>\n",
       "    </tr>\n",
       "  </tbody>\n",
       "</table>\n",
       "</div>"
      ],
      "text/plain": [
       "           hotel  is_canceled  lead_time  arrival_date_year  \\\n",
       "8   Resort Hotel            1         85               2015   \n",
       "9   Resort Hotel            1         75               2015   \n",
       "10  Resort Hotel            1         23               2015   \n",
       "27  Resort Hotel            1         60               2015   \n",
       "32  Resort Hotel            1         96               2015   \n",
       "\n",
       "   arrival_date_month  arrival_date_week_number  arrival_date_day_of_month  \\\n",
       "8                July                        27                          1   \n",
       "9                July                        27                          1   \n",
       "10               July                        27                          1   \n",
       "27               July                        27                          1   \n",
       "32               July                        27                          1   \n",
       "\n",
       "    stays_in_weekend_nights  stays_in_week_nights  adults  children  babies  \\\n",
       "8                         0                     3       2       0.0       0   \n",
       "9                         0                     3       2       0.0       0   \n",
       "10                        0                     4       2       0.0       0   \n",
       "27                        2                     5       2       0.0       0   \n",
       "32                        2                     8       2       0.0       0   \n",
       "\n",
       "   meal country market_segment distribution_channel  is_repeated_guest  \\\n",
       "8    BB     PRT      Online TA                TA/TO                  0   \n",
       "9    HB     PRT  Offline TA/TO                TA/TO                  0   \n",
       "10   BB     PRT      Online TA                TA/TO                  0   \n",
       "27   BB     PRT      Online TA                TA/TO                  0   \n",
       "32   BB     PRT         Direct               Direct                  0   \n",
       "\n",
       "    previous_cancellations  previous_bookings_not_canceled reserved_room_type  \\\n",
       "8                        0                               0                  A   \n",
       "9                        0                               0                  D   \n",
       "10                       0                               0                  E   \n",
       "27                       0                               0                  E   \n",
       "32                       0                               0                  E   \n",
       "\n",
       "   assigned_room_type  booking_changes deposit_type  agent  company  \\\n",
       "8                   A                0   No Deposit  240.0      NaN   \n",
       "9                   D                0   No Deposit   15.0      NaN   \n",
       "10                  E                0   No Deposit  240.0      NaN   \n",
       "27                  E                0   No Deposit  240.0      NaN   \n",
       "32                  E                0   No Deposit    NaN      NaN   \n",
       "\n",
       "    days_in_waiting_list customer_type    adr  required_car_parking_spaces  \\\n",
       "8                      0     Transient   82.0                            0   \n",
       "9                      0     Transient  105.5                            0   \n",
       "10                     0     Transient  123.0                            0   \n",
       "27                     0     Transient  107.0                            0   \n",
       "32                     0     Transient  108.3                            0   \n",
       "\n",
       "    total_of_special_requests reservation_status reservation_status_date  \\\n",
       "8                           1           Canceled              2015-05-06   \n",
       "9                           0           Canceled              2015-04-22   \n",
       "10                          0           Canceled              2015-06-23   \n",
       "27                          2           Canceled              2015-05-11   \n",
       "32                          2           Canceled              2015-05-29   \n",
       "\n",
       "    arrival_date_month_number arrival_date  no_of_days_cancellation  \n",
       "8                           7   2015-07-01                       56  \n",
       "9                           7   2015-07-01                       70  \n",
       "10                          7   2015-07-01                        8  \n",
       "27                          7   2015-07-01                       51  \n",
       "32                          7   2015-07-01                       33  "
      ]
     },
     "execution_count": 36,
     "metadata": {},
     "output_type": "execute_result"
    }
   ],
   "source": [
    "#Removing the string 'days' from the output and storing the integer value in the new column 'no_of_days_cancellation'\n",
    "clean_data['no_of_days_cancellation'] = clean_data['no_of_days_cancellation'].dt.days\n",
    "clean_data.head()"
   ]
  },
  {
   "cell_type": "code",
   "execution_count": 37,
   "id": "5a3b1e8c",
   "metadata": {},
   "outputs": [],
   "source": [
    "clean_data = clean(clean_data)"
   ]
  },
  {
   "cell_type": "code",
   "execution_count": 38,
   "id": "0647c5c2",
   "metadata": {},
   "outputs": [
    {
     "data": {
      "text/html": [
       "<div>\n",
       "<style scoped>\n",
       "    .dataframe tbody tr th:only-of-type {\n",
       "        vertical-align: middle;\n",
       "    }\n",
       "\n",
       "    .dataframe tbody tr th {\n",
       "        vertical-align: top;\n",
       "    }\n",
       "\n",
       "    .dataframe thead th {\n",
       "        text-align: right;\n",
       "    }\n",
       "</style>\n",
       "<table border=\"1\" class=\"dataframe\">\n",
       "  <thead>\n",
       "    <tr style=\"text-align: right;\">\n",
       "      <th></th>\n",
       "      <th>hotel</th>\n",
       "      <th>lead_time</th>\n",
       "      <th>arrival_date_year</th>\n",
       "      <th>arrival_date_month</th>\n",
       "      <th>arrival_date_week_number</th>\n",
       "      <th>stays_in_weekend_nights</th>\n",
       "      <th>stays_in_week_nights</th>\n",
       "      <th>adults</th>\n",
       "      <th>children</th>\n",
       "      <th>babies</th>\n",
       "      <th>meal</th>\n",
       "      <th>market_segment</th>\n",
       "      <th>is_repeated_guest</th>\n",
       "      <th>previous_cancellations</th>\n",
       "      <th>previous_bookings_not_canceled</th>\n",
       "      <th>booking_changes</th>\n",
       "      <th>deposit_type</th>\n",
       "      <th>days_in_waiting_list</th>\n",
       "      <th>customer_type</th>\n",
       "      <th>adr</th>\n",
       "      <th>required_car_parking_spaces</th>\n",
       "      <th>total_of_special_requests</th>\n",
       "      <th>no_of_days_cancellation</th>\n",
       "      <th>Room_match</th>\n",
       "    </tr>\n",
       "  </thead>\n",
       "  <tbody>\n",
       "    <tr>\n",
       "      <th>8</th>\n",
       "      <td>Resort Hotel</td>\n",
       "      <td>85</td>\n",
       "      <td>2015</td>\n",
       "      <td>July</td>\n",
       "      <td>27</td>\n",
       "      <td>0</td>\n",
       "      <td>3</td>\n",
       "      <td>2</td>\n",
       "      <td>0.0</td>\n",
       "      <td>0</td>\n",
       "      <td>BB</td>\n",
       "      <td>Online TA</td>\n",
       "      <td>0</td>\n",
       "      <td>0</td>\n",
       "      <td>0</td>\n",
       "      <td>0</td>\n",
       "      <td>No Deposit</td>\n",
       "      <td>0</td>\n",
       "      <td>Transient</td>\n",
       "      <td>82.0</td>\n",
       "      <td>0</td>\n",
       "      <td>1</td>\n",
       "      <td>56</td>\n",
       "      <td>1</td>\n",
       "    </tr>\n",
       "    <tr>\n",
       "      <th>9</th>\n",
       "      <td>Resort Hotel</td>\n",
       "      <td>75</td>\n",
       "      <td>2015</td>\n",
       "      <td>July</td>\n",
       "      <td>27</td>\n",
       "      <td>0</td>\n",
       "      <td>3</td>\n",
       "      <td>2</td>\n",
       "      <td>0.0</td>\n",
       "      <td>0</td>\n",
       "      <td>HB</td>\n",
       "      <td>Offline TA/TO</td>\n",
       "      <td>0</td>\n",
       "      <td>0</td>\n",
       "      <td>0</td>\n",
       "      <td>0</td>\n",
       "      <td>No Deposit</td>\n",
       "      <td>0</td>\n",
       "      <td>Transient</td>\n",
       "      <td>105.5</td>\n",
       "      <td>0</td>\n",
       "      <td>0</td>\n",
       "      <td>70</td>\n",
       "      <td>1</td>\n",
       "    </tr>\n",
       "    <tr>\n",
       "      <th>10</th>\n",
       "      <td>Resort Hotel</td>\n",
       "      <td>23</td>\n",
       "      <td>2015</td>\n",
       "      <td>July</td>\n",
       "      <td>27</td>\n",
       "      <td>0</td>\n",
       "      <td>4</td>\n",
       "      <td>2</td>\n",
       "      <td>0.0</td>\n",
       "      <td>0</td>\n",
       "      <td>BB</td>\n",
       "      <td>Online TA</td>\n",
       "      <td>0</td>\n",
       "      <td>0</td>\n",
       "      <td>0</td>\n",
       "      <td>0</td>\n",
       "      <td>No Deposit</td>\n",
       "      <td>0</td>\n",
       "      <td>Transient</td>\n",
       "      <td>123.0</td>\n",
       "      <td>0</td>\n",
       "      <td>0</td>\n",
       "      <td>8</td>\n",
       "      <td>1</td>\n",
       "    </tr>\n",
       "    <tr>\n",
       "      <th>27</th>\n",
       "      <td>Resort Hotel</td>\n",
       "      <td>60</td>\n",
       "      <td>2015</td>\n",
       "      <td>July</td>\n",
       "      <td>27</td>\n",
       "      <td>2</td>\n",
       "      <td>5</td>\n",
       "      <td>2</td>\n",
       "      <td>0.0</td>\n",
       "      <td>0</td>\n",
       "      <td>BB</td>\n",
       "      <td>Online TA</td>\n",
       "      <td>0</td>\n",
       "      <td>0</td>\n",
       "      <td>0</td>\n",
       "      <td>0</td>\n",
       "      <td>No Deposit</td>\n",
       "      <td>0</td>\n",
       "      <td>Transient</td>\n",
       "      <td>107.0</td>\n",
       "      <td>0</td>\n",
       "      <td>2</td>\n",
       "      <td>51</td>\n",
       "      <td>1</td>\n",
       "    </tr>\n",
       "    <tr>\n",
       "      <th>32</th>\n",
       "      <td>Resort Hotel</td>\n",
       "      <td>96</td>\n",
       "      <td>2015</td>\n",
       "      <td>July</td>\n",
       "      <td>27</td>\n",
       "      <td>2</td>\n",
       "      <td>8</td>\n",
       "      <td>2</td>\n",
       "      <td>0.0</td>\n",
       "      <td>0</td>\n",
       "      <td>BB</td>\n",
       "      <td>Direct</td>\n",
       "      <td>0</td>\n",
       "      <td>0</td>\n",
       "      <td>0</td>\n",
       "      <td>0</td>\n",
       "      <td>No Deposit</td>\n",
       "      <td>0</td>\n",
       "      <td>Transient</td>\n",
       "      <td>108.3</td>\n",
       "      <td>0</td>\n",
       "      <td>2</td>\n",
       "      <td>33</td>\n",
       "      <td>1</td>\n",
       "    </tr>\n",
       "  </tbody>\n",
       "</table>\n",
       "</div>"
      ],
      "text/plain": [
       "           hotel  lead_time  arrival_date_year arrival_date_month  \\\n",
       "8   Resort Hotel         85               2015               July   \n",
       "9   Resort Hotel         75               2015               July   \n",
       "10  Resort Hotel         23               2015               July   \n",
       "27  Resort Hotel         60               2015               July   \n",
       "32  Resort Hotel         96               2015               July   \n",
       "\n",
       "    arrival_date_week_number  stays_in_weekend_nights  stays_in_week_nights  \\\n",
       "8                         27                        0                     3   \n",
       "9                         27                        0                     3   \n",
       "10                        27                        0                     4   \n",
       "27                        27                        2                     5   \n",
       "32                        27                        2                     8   \n",
       "\n",
       "    adults  children  babies meal market_segment  is_repeated_guest  \\\n",
       "8        2       0.0       0   BB      Online TA                  0   \n",
       "9        2       0.0       0   HB  Offline TA/TO                  0   \n",
       "10       2       0.0       0   BB      Online TA                  0   \n",
       "27       2       0.0       0   BB      Online TA                  0   \n",
       "32       2       0.0       0   BB         Direct                  0   \n",
       "\n",
       "    previous_cancellations  previous_bookings_not_canceled  booking_changes  \\\n",
       "8                        0                               0                0   \n",
       "9                        0                               0                0   \n",
       "10                       0                               0                0   \n",
       "27                       0                               0                0   \n",
       "32                       0                               0                0   \n",
       "\n",
       "   deposit_type  days_in_waiting_list customer_type    adr  \\\n",
       "8    No Deposit                     0     Transient   82.0   \n",
       "9    No Deposit                     0     Transient  105.5   \n",
       "10   No Deposit                     0     Transient  123.0   \n",
       "27   No Deposit                     0     Transient  107.0   \n",
       "32   No Deposit                     0     Transient  108.3   \n",
       "\n",
       "    required_car_parking_spaces  total_of_special_requests  \\\n",
       "8                             0                          1   \n",
       "9                             0                          0   \n",
       "10                            0                          0   \n",
       "27                            0                          2   \n",
       "32                            0                          2   \n",
       "\n",
       "    no_of_days_cancellation  Room_match  \n",
       "8                        56           1  \n",
       "9                        70           1  \n",
       "10                        8           1  \n",
       "27                       51           1  \n",
       "32                       33           1  "
      ]
     },
     "execution_count": 38,
     "metadata": {},
     "output_type": "execute_result"
    }
   ],
   "source": [
    "clean_data = clean_data.drop(['is_canceled', 'arrival_date','arrival_date_day_of_month', 'arrival_date_month_number'], axis=1)\n",
    "clean_data.head()"
   ]
  },
  {
   "cell_type": "code",
   "execution_count": 39,
   "id": "01109ae4",
   "metadata": {},
   "outputs": [
    {
     "data": {
      "text/plain": [
       "no_of_days_cancellation           1.000000\n",
       "lead_time                         0.724987\n",
       "total_of_special_requests         0.143360\n",
       "Room_match                        0.107225\n",
       "adr                               0.103663\n",
       "arrival_date_week_number          0.088824\n",
       "arrival_date_year                 0.079111\n",
       "stays_in_weekend_nights           0.065040\n",
       "booking_changes                   0.064163\n",
       "adults                            0.061750\n",
       "previous_cancellations            0.060480\n",
       "stays_in_week_nights              0.047307\n",
       "children                          0.042055\n",
       "is_repeated_guest                 0.040023\n",
       "previous_bookings_not_canceled    0.021201\n",
       "babies                            0.019473\n",
       "days_in_waiting_list              0.010505\n",
       "required_car_parking_spaces            NaN\n",
       "Name: no_of_days_cancellation, dtype: float64"
      ]
     },
     "execution_count": 39,
     "metadata": {},
     "output_type": "execute_result"
    }
   ],
   "source": [
    "correlation = clean_data.corr(method='pearson')['no_of_days_cancellation'].abs().sort_values(ascending = False)\n",
    "correlation"
   ]
  },
  {
   "attachments": {},
   "cell_type": "markdown",
   "id": "e7d8b378",
   "metadata": {},
   "source": [
    "Here we can see the column 'lead time' has a very good correlation w.r.t no_of_days_cancellation"
   ]
  },
  {
   "cell_type": "code",
   "execution_count": 40,
   "id": "b6f3894a",
   "metadata": {},
   "outputs": [
    {
     "name": "stdout",
     "output_type": "stream",
     "text": [
      "Index(['hotel', 'arrival_date_month', 'meal', 'market_segment', 'deposit_type',\n",
      "       'customer_type'],\n",
      "      dtype='object')\n"
     ]
    }
   ],
   "source": [
    "# Find categorical columns that should be encoded\n",
    "cat_columns = clean_data.select_dtypes(include=['object'])\n",
    "cat_columns_names = cat_columns.columns\n",
    "print(cat_columns_names)"
   ]
  },
  {
   "attachments": {},
   "cell_type": "markdown",
   "id": "c1d78d0c",
   "metadata": {},
   "source": [
    "### 5.2 Model Selection and fitting the model \n",
    "\n",
    "- Defining the features and label.\n",
    "- Used 5-Fold cross-validation to assess the out-of-sample accuracy of two regression models (linear and quadratic regression).\n",
    "- Splitting the data set using HoldOut Validation first and then performing KFold for hyperparametric tuning.\n",
    "- Performed feature selection using backward feature selection method and fitted the model using the best features.\n",
    "- Further we performed hyperparameter tuning to check if the accuracy and overall performace of the model can be improved."
   ]
  },
  {
   "cell_type": "code",
   "execution_count": 41,
   "id": "6df409eb",
   "metadata": {},
   "outputs": [
    {
     "data": {
      "text/plain": [
       "['hotel',\n",
       " 'lead_time',\n",
       " 'arrival_date_year',\n",
       " 'arrival_date_month',\n",
       " 'arrival_date_week_number',\n",
       " 'stays_in_weekend_nights',\n",
       " 'stays_in_week_nights',\n",
       " 'adults',\n",
       " 'children',\n",
       " 'babies',\n",
       " 'meal',\n",
       " 'market_segment',\n",
       " 'is_repeated_guest',\n",
       " 'previous_cancellations',\n",
       " 'previous_bookings_not_canceled',\n",
       " 'booking_changes',\n",
       " 'deposit_type',\n",
       " 'days_in_waiting_list',\n",
       " 'customer_type',\n",
       " 'adr',\n",
       " 'required_car_parking_spaces',\n",
       " 'total_of_special_requests',\n",
       " 'Room_match']"
      ]
     },
     "execution_count": 41,
     "metadata": {},
     "output_type": "execute_result"
    }
   ],
   "source": [
    "label = 'no_of_days_cancellation'\n",
    "features = [column for column in clean_data.columns if column != label]\n",
    "X1, y1 = clean_data[features], clean_data[label]\n",
    "features"
   ]
  },
  {
   "cell_type": "code",
   "execution_count": 42,
   "id": "e03ede2f",
   "metadata": {},
   "outputs": [],
   "source": [
    "#Multiple Linear Regression\n",
    "def get_model(features):\n",
    "    categorical_features = list(set(features) & set(['hotel', 'arrival_date_month', 'meal', 'market_segment','deposit_type', 'customer_type']))\n",
    "    numerical_features = [col for col in features if col not in categorical_features]\n",
    "    \n",
    "    \n",
    "    return make_pipeline(\n",
    "        ColumnTransformer(transformers=[\n",
    "             ('categorical', OneHotEncoder(handle_unknown='ignore'), categorical_features),\n",
    "             ('numerical', StandardScaler(), numerical_features)\n",
    "        ]),\n",
    "        LinearRegression())"
   ]
  },
  {
   "cell_type": "code",
   "execution_count": 43,
   "id": "6a903d57",
   "metadata": {},
   "outputs": [],
   "source": [
    "# Polynomial regression with degree 2\n",
    "def get_model1(features):\n",
    "    categorical_features = list(set(features) & set(['hotel', 'arrival_date_month', 'meal', 'market_segment','deposit_type', 'customer_type']))\n",
    "    numerical_features = [col for col in features if col not in categorical_features]\n",
    "    \n",
    "    \n",
    "    return make_pipeline(    \n",
    "    ColumnTransformer(transformers=[\n",
    "             ('categorical', OneHotEncoder(handle_unknown='ignore'), categorical_features),\n",
    "             ('numerical', StandardScaler(), numerical_features)\n",
    "        ]),\n",
    "    PolynomialFeatures(degree=2),    \n",
    "    LinearRegression())"
   ]
  },
  {
   "cell_type": "code",
   "execution_count": 44,
   "id": "1e314f01",
   "metadata": {},
   "outputs": [],
   "source": [
    "kf = KFold(n_splits=5, shuffle=True, random_state=0)"
   ]
  },
  {
   "cell_type": "code",
   "execution_count": 45,
   "id": "0b17c406",
   "metadata": {},
   "outputs": [],
   "source": [
    "sol_linear = cross_val_score(\n",
    "            estimator=get_model(features),\n",
    "            X=X1, y=y1, cv=kf,\n",
    "            scoring='neg_mean_squared_error')"
   ]
  },
  {
   "cell_type": "code",
   "execution_count": 46,
   "id": "d24f45bd",
   "metadata": {},
   "outputs": [
    {
     "data": {
      "text/plain": [
       "3218.928635103737"
      ]
     },
     "execution_count": 46,
     "metadata": {},
     "output_type": "execute_result"
    }
   ],
   "source": [
    "-1 * np.mean(sol_linear)"
   ]
  },
  {
   "cell_type": "code",
   "execution_count": 47,
   "id": "b205adb6",
   "metadata": {},
   "outputs": [],
   "source": [
    "sol_quadratic = cross_val_score(\n",
    "                estimator=get_model1(features),\n",
    "                X=X1, y=y1, cv=kf,\n",
    "                scoring='neg_mean_squared_error')"
   ]
  },
  {
   "cell_type": "code",
   "execution_count": 48,
   "id": "31022c45",
   "metadata": {},
   "outputs": [
    {
     "data": {
      "text/plain": [
       "3.248030374247802e+20"
      ]
     },
     "execution_count": 48,
     "metadata": {},
     "output_type": "execute_result"
    }
   ],
   "source": [
    "-1 * np.mean(sol_quadratic)"
   ]
  },
  {
   "attachments": {},
   "cell_type": "markdown",
   "id": "b2677cda",
   "metadata": {},
   "source": [
    "From the above Negative MSEs we can see that Linear regression has a much lower error compared to polynomial. So we are progressing with Multiple Linear Regression"
   ]
  },
  {
   "attachments": {},
   "cell_type": "markdown",
   "id": "e12138ed",
   "metadata": {},
   "source": [
    "#### 5.2.1 Backward Feature Selection"
   ]
  },
  {
   "cell_type": "code",
   "execution_count": 68,
   "id": "14425a78",
   "metadata": {},
   "outputs": [],
   "source": [
    "from sklearn.metrics import mean_squared_error\n",
    "class Solution:\n",
    "    features = list()\n",
    "    mse = float('Inf')\n",
    "    \n",
    "    def __init__(self, y1, features=None, mse=None):\n",
    "        if features and mse:\n",
    "            self.features = features\n",
    "            self.mse = mse\n",
    "        else:\n",
    "            pred = [y1.mean()] * len(y1)\n",
    "            self.features = list()\n",
    "            self.mse = mean_squared_error(y1, pred)\n",
    "    \n",
    "    def update(self, features, mse):\n",
    "        if mse < self.mse:\n",
    "            self.features = features\n",
    "            self.mse = mse\n",
    "            return True\n",
    "        return False\n",
    "\n",
    "current_features = list(features)\n",
    "best = Solution(\n",
    "    y1=y1,\n",
    "    features=current_features,\n",
    "    mse=-np.average(\n",
    "        cross_val_score(\n",
    "            estimator=get_model(current_features),\n",
    "            X=X1, y=y1, cv=kf,\n",
    "            scoring='neg_mean_squared_error')))\n",
    "\n",
    "while len(current_features) > 0:\n",
    "    removed_feature = None\n",
    "    \n",
    "    for feature in current_features:\n",
    "        new_features = [f for f in current_features if f != feature]\n",
    "        mses = cross_val_score(\n",
    "            estimator=get_model(new_features),\n",
    "            X=X1[new_features], y=y1, cv=kf,\n",
    "            scoring='neg_mean_squared_error')\n",
    "        mse = -np.average(mses)\n",
    "        \n",
    "        if best.update(new_features, mse):\n",
    "            removed_feature = feature\n",
    "            \n",
    "    if removed_feature:\n",
    "        current_features.remove(removed_feature)\n",
    "    else:\n",
    "        break"
   ]
  },
  {
   "cell_type": "code",
   "execution_count": 69,
   "id": "5802f5b8",
   "metadata": {},
   "outputs": [
    {
     "name": "stdout",
     "output_type": "stream",
     "text": [
      "Selected features: hotel, lead_time, arrival_date_year, arrival_date_month, arrival_date_week_number, stays_in_weekend_nights, stays_in_week_nights, meal, market_segment, is_repeated_guest, previous_cancellations, previous_bookings_not_canceled, booking_changes, deposit_type, days_in_waiting_list, customer_type, required_car_parking_spaces, total_of_special_requests, Room_match\n"
     ]
    },
    {
     "data": {
      "text/plain": [
       "['hotel',\n",
       " 'lead_time',\n",
       " 'arrival_date_year',\n",
       " 'arrival_date_month',\n",
       " 'arrival_date_week_number',\n",
       " 'stays_in_weekend_nights',\n",
       " 'stays_in_week_nights',\n",
       " 'meal',\n",
       " 'market_segment',\n",
       " 'is_repeated_guest',\n",
       " 'previous_cancellations',\n",
       " 'previous_bookings_not_canceled',\n",
       " 'booking_changes',\n",
       " 'deposit_type',\n",
       " 'days_in_waiting_list',\n",
       " 'customer_type',\n",
       " 'required_car_parking_spaces',\n",
       " 'total_of_special_requests',\n",
       " 'Room_match']"
      ]
     },
     "execution_count": 69,
     "metadata": {},
     "output_type": "execute_result"
    }
   ],
   "source": [
    "print('Selected features: ', end='')\n",
    "print(', '.join(best.features))\n",
    "reg_features= best.features\n",
    "reg_features "
   ]
  },
  {
   "attachments": {},
   "cell_type": "markdown",
   "id": "1b8ae357",
   "metadata": {},
   "source": [
    "#### 5.2.2 Fitting the model using the features"
   ]
  },
  {
   "cell_type": "code",
   "execution_count": 70,
   "id": "79d8fb81",
   "metadata": {},
   "outputs": [
    {
     "name": "stdout",
     "output_type": "stream",
     "text": [
      "Mean squared error:  3166.6905334110174\n",
      "R2 Score: 0.6245153512437247\n",
      "Accuracy: 0.62\n"
     ]
    }
   ],
   "source": [
    "# Split the data into train and test sets\n",
    "X_train, X_test, y_train, y_test = train_test_split(X1[best.features], y1, test_size=0.2, random_state=0)\n",
    "\n",
    "model = get_model(best.features)\n",
    "\n",
    "# Fit the model on the training set\n",
    "model.fit(X_train, y_train)\n",
    "\n",
    "# Make predictions on the testing set\n",
    "y_pred = model.predict(X_test)\n",
    "\n",
    "# Evaluate the performance of the model using mean squared error\n",
    "mse = mean_squared_error(y_test, y_pred)\n",
    "print('Mean squared error: ', mse)\n",
    "print('R2 Score:', r2_score(y_test, y_pred))\n",
    "print('Accuracy: {:.2f}'.format(model.score(X_test, y_test)))"
   ]
  },
  {
   "attachments": {},
   "cell_type": "markdown",
   "id": "8cd8cc0e",
   "metadata": {},
   "source": [
    "#### 5.2.3 Hyperparametric Tuning"
   ]
  },
  {
   "cell_type": "code",
   "execution_count": 71,
   "id": "351b5242",
   "metadata": {},
   "outputs": [
    {
     "name": "stdout",
     "output_type": "stream",
     "text": [
      "Best hyperparameters:  {'linearregression__copy_X': True, 'linearregression__fit_intercept': False, 'linearregression__positive': False}\n",
      "Best mean squared error:  3233.2728680549812\n"
     ]
    }
   ],
   "source": [
    "from sklearn.model_selection import GridSearchCV\n",
    "from sklearn.pipeline import Pipeline\n",
    "\n",
    "# Define the parameter grid to search over\n",
    "Lin_R = {\n",
    "    'linearregression__fit_intercept': [True, False],\n",
    "    'linearregression__copy_X': [True, False],\n",
    "    'linearregression__positive': [True, False]\n",
    "}\n",
    "\n",
    "model = get_model(best.features)\n",
    "\n",
    "# Create the grid search object\n",
    "grid_search = GridSearchCV(model, param_grid=Lin_R, cv=kf, scoring='neg_mean_squared_error')\n",
    "\n",
    "# Fit the grid search object on the training set\n",
    "grid_search.fit(X_train, y_train)\n",
    "\n",
    "# Print the best hyperparameters and the corresponding mean squared error\n",
    "print(\"Best hyperparameters: \", grid_search.best_params_)\n",
    "print(\"Best mean squared error: \", -grid_search.best_score_)"
   ]
  },
  {
   "cell_type": "code",
   "execution_count": 72,
   "id": "c86db599",
   "metadata": {},
   "outputs": [],
   "source": [
    "categorical_features = list(set(best.features) & set(['hotel', 'arrival_date_month', 'meal', 'market_segment','deposit_type', 'customer_type']))\n",
    "numerical_features = [col for col in best.features if col not in categorical_features]"
   ]
  },
  {
   "cell_type": "code",
   "execution_count": 73,
   "id": "9f19926d",
   "metadata": {},
   "outputs": [],
   "source": [
    "lr = make_pipeline(\n",
    "        ColumnTransformer(transformers=[\n",
    "             ('categorical', OneHotEncoder(handle_unknown='ignore'), categorical_features),\n",
    "             ('numerical', StandardScaler(), numerical_features)\n",
    "        ]),\n",
    "        LinearRegression(fit_intercept=False, copy_X=True, positive= False ))"
   ]
  },
  {
   "cell_type": "code",
   "execution_count": 74,
   "id": "0ee92190",
   "metadata": {},
   "outputs": [
    {
     "name": "stdout",
     "output_type": "stream",
     "text": [
      "Mean squared error:  3166.1659050700855\n"
     ]
    }
   ],
   "source": [
    "lr.fit(X_train, y_train)\n",
    "y_pred = lr.predict(X_test)\n",
    "\n",
    "# Evaluate the performance of the model using mean squared error\n",
    "mse = mean_squared_error(y_test, y_pred)\n",
    "print('Mean squared error: ', mse)"
   ]
  },
  {
   "cell_type": "code",
   "execution_count": 75,
   "id": "0b54cc90",
   "metadata": {},
   "outputs": [
    {
     "data": {
      "text/plain": [
       "array([ 91.43592656,  31.94813359,  89.53944219, ...,  19.86113979,\n",
       "       108.46131719,  77.47596562])"
      ]
     },
     "execution_count": 75,
     "metadata": {},
     "output_type": "execute_result"
    }
   ],
   "source": [
    "y_pred"
   ]
  },
  {
   "cell_type": "code",
   "execution_count": 76,
   "id": "0f513f33",
   "metadata": {},
   "outputs": [
    {
     "name": "stdout",
     "output_type": "stream",
     "text": [
      "R-squared value for test set: 0.6245775581080344\n",
      "Accuracy: 0.62\n"
     ]
    }
   ],
   "source": [
    "r2_test = r2_score(y_test, y_pred)\n",
    "print(\"R-squared value for test set:\", r2_test)\n",
    "print('Accuracy: {:.2f}'.format(lr.score(X_test, y_test)))"
   ]
  },
  {
   "attachments": {},
   "cell_type": "markdown",
   "id": "7c3c1e5f",
   "metadata": {},
   "source": [
    "From the above values we can say that, after hyperparametric tuning our MSE has improved slightly and r2 value and accuracy are still the same."
   ]
  },
  {
   "attachments": {},
   "cell_type": "markdown",
   "id": "f92547f3",
   "metadata": {},
   "source": [
    "##### Fitting both the models with the entire data set"
   ]
  },
  {
   "cell_type": "code",
   "execution_count": 77,
   "id": "db3deed9",
   "metadata": {},
   "outputs": [
    {
     "data": {
      "text/html": [
       "<style>#sk-container-id-2 {color: black;background-color: white;}#sk-container-id-2 pre{padding: 0;}#sk-container-id-2 div.sk-toggleable {background-color: white;}#sk-container-id-2 label.sk-toggleable__label {cursor: pointer;display: block;width: 100%;margin-bottom: 0;padding: 0.3em;box-sizing: border-box;text-align: center;}#sk-container-id-2 label.sk-toggleable__label-arrow:before {content: \"▸\";float: left;margin-right: 0.25em;color: #696969;}#sk-container-id-2 label.sk-toggleable__label-arrow:hover:before {color: black;}#sk-container-id-2 div.sk-estimator:hover label.sk-toggleable__label-arrow:before {color: black;}#sk-container-id-2 div.sk-toggleable__content {max-height: 0;max-width: 0;overflow: hidden;text-align: left;background-color: #f0f8ff;}#sk-container-id-2 div.sk-toggleable__content pre {margin: 0.2em;color: black;border-radius: 0.25em;background-color: #f0f8ff;}#sk-container-id-2 input.sk-toggleable__control:checked~div.sk-toggleable__content {max-height: 200px;max-width: 100%;overflow: auto;}#sk-container-id-2 input.sk-toggleable__control:checked~label.sk-toggleable__label-arrow:before {content: \"▾\";}#sk-container-id-2 div.sk-estimator input.sk-toggleable__control:checked~label.sk-toggleable__label {background-color: #d4ebff;}#sk-container-id-2 div.sk-label input.sk-toggleable__control:checked~label.sk-toggleable__label {background-color: #d4ebff;}#sk-container-id-2 input.sk-hidden--visually {border: 0;clip: rect(1px 1px 1px 1px);clip: rect(1px, 1px, 1px, 1px);height: 1px;margin: -1px;overflow: hidden;padding: 0;position: absolute;width: 1px;}#sk-container-id-2 div.sk-estimator {font-family: monospace;background-color: #f0f8ff;border: 1px dotted black;border-radius: 0.25em;box-sizing: border-box;margin-bottom: 0.5em;}#sk-container-id-2 div.sk-estimator:hover {background-color: #d4ebff;}#sk-container-id-2 div.sk-parallel-item::after {content: \"\";width: 100%;border-bottom: 1px solid gray;flex-grow: 1;}#sk-container-id-2 div.sk-label:hover label.sk-toggleable__label {background-color: #d4ebff;}#sk-container-id-2 div.sk-serial::before {content: \"\";position: absolute;border-left: 1px solid gray;box-sizing: border-box;top: 0;bottom: 0;left: 50%;z-index: 0;}#sk-container-id-2 div.sk-serial {display: flex;flex-direction: column;align-items: center;background-color: white;padding-right: 0.2em;padding-left: 0.2em;position: relative;}#sk-container-id-2 div.sk-item {position: relative;z-index: 1;}#sk-container-id-2 div.sk-parallel {display: flex;align-items: stretch;justify-content: center;background-color: white;position: relative;}#sk-container-id-2 div.sk-item::before, #sk-container-id-2 div.sk-parallel-item::before {content: \"\";position: absolute;border-left: 1px solid gray;box-sizing: border-box;top: 0;bottom: 0;left: 50%;z-index: -1;}#sk-container-id-2 div.sk-parallel-item {display: flex;flex-direction: column;z-index: 1;position: relative;background-color: white;}#sk-container-id-2 div.sk-parallel-item:first-child::after {align-self: flex-end;width: 50%;}#sk-container-id-2 div.sk-parallel-item:last-child::after {align-self: flex-start;width: 50%;}#sk-container-id-2 div.sk-parallel-item:only-child::after {width: 0;}#sk-container-id-2 div.sk-dashed-wrapped {border: 1px dashed gray;margin: 0 0.4em 0.5em 0.4em;box-sizing: border-box;padding-bottom: 0.4em;background-color: white;}#sk-container-id-2 div.sk-label label {font-family: monospace;font-weight: bold;display: inline-block;line-height: 1.2em;}#sk-container-id-2 div.sk-label-container {text-align: center;}#sk-container-id-2 div.sk-container {/* jupyter's `normalize.less` sets `[hidden] { display: none; }` but bootstrap.min.css set `[hidden] { display: none !important; }` so we also need the `!important` here to be able to override the default hidden behavior on the sphinx rendered scikit-learn.org. See: https://github.com/scikit-learn/scikit-learn/issues/21755 */display: inline-block !important;position: relative;}#sk-container-id-2 div.sk-text-repr-fallback {display: none;}</style><div id=\"sk-container-id-2\" class=\"sk-top-container\"><div class=\"sk-text-repr-fallback\"><pre>Pipeline(steps=[(&#x27;columntransformer&#x27;,\n",
       "                 ColumnTransformer(transformers=[(&#x27;categorical&#x27;,\n",
       "                                                  OneHotEncoder(handle_unknown=&#x27;ignore&#x27;),\n",
       "                                                  [&#x27;customer_type&#x27;,\n",
       "                                                   &#x27;deposit_type&#x27;, &#x27;meal&#x27;,\n",
       "                                                   &#x27;hotel&#x27;, &#x27;market_segment&#x27;,\n",
       "                                                   &#x27;arrival_date_month&#x27;]),\n",
       "                                                 (&#x27;numerical&#x27;, StandardScaler(),\n",
       "                                                  [&#x27;lead_time&#x27;,\n",
       "                                                   &#x27;arrival_date_year&#x27;,\n",
       "                                                   &#x27;arrival_date_week_number&#x27;,\n",
       "                                                   &#x27;stays_in_weekend_nights&#x27;,\n",
       "                                                   &#x27;stays_in_week_nights&#x27;,\n",
       "                                                   &#x27;is_repeated_guest&#x27;,\n",
       "                                                   &#x27;previous_cancellations&#x27;,\n",
       "                                                   &#x27;previous_bookings_not_canceled&#x27;,\n",
       "                                                   &#x27;booking_changes&#x27;,\n",
       "                                                   &#x27;days_in_waiting_list&#x27;,\n",
       "                                                   &#x27;required_car_parking_spaces&#x27;,\n",
       "                                                   &#x27;total_of_special_requests&#x27;,\n",
       "                                                   &#x27;Room_match&#x27;])])),\n",
       "                (&#x27;linearregression&#x27;, LinearRegression(fit_intercept=False))])</pre><b>In a Jupyter environment, please rerun this cell to show the HTML representation or trust the notebook. <br />On GitHub, the HTML representation is unable to render, please try loading this page with nbviewer.org.</b></div><div class=\"sk-container\" hidden><div class=\"sk-item sk-dashed-wrapped\"><div class=\"sk-label-container\"><div class=\"sk-label sk-toggleable\"><input class=\"sk-toggleable__control sk-hidden--visually\" id=\"sk-estimator-id-8\" type=\"checkbox\" ><label for=\"sk-estimator-id-8\" class=\"sk-toggleable__label sk-toggleable__label-arrow\">Pipeline</label><div class=\"sk-toggleable__content\"><pre>Pipeline(steps=[(&#x27;columntransformer&#x27;,\n",
       "                 ColumnTransformer(transformers=[(&#x27;categorical&#x27;,\n",
       "                                                  OneHotEncoder(handle_unknown=&#x27;ignore&#x27;),\n",
       "                                                  [&#x27;customer_type&#x27;,\n",
       "                                                   &#x27;deposit_type&#x27;, &#x27;meal&#x27;,\n",
       "                                                   &#x27;hotel&#x27;, &#x27;market_segment&#x27;,\n",
       "                                                   &#x27;arrival_date_month&#x27;]),\n",
       "                                                 (&#x27;numerical&#x27;, StandardScaler(),\n",
       "                                                  [&#x27;lead_time&#x27;,\n",
       "                                                   &#x27;arrival_date_year&#x27;,\n",
       "                                                   &#x27;arrival_date_week_number&#x27;,\n",
       "                                                   &#x27;stays_in_weekend_nights&#x27;,\n",
       "                                                   &#x27;stays_in_week_nights&#x27;,\n",
       "                                                   &#x27;is_repeated_guest&#x27;,\n",
       "                                                   &#x27;previous_cancellations&#x27;,\n",
       "                                                   &#x27;previous_bookings_not_canceled&#x27;,\n",
       "                                                   &#x27;booking_changes&#x27;,\n",
       "                                                   &#x27;days_in_waiting_list&#x27;,\n",
       "                                                   &#x27;required_car_parking_spaces&#x27;,\n",
       "                                                   &#x27;total_of_special_requests&#x27;,\n",
       "                                                   &#x27;Room_match&#x27;])])),\n",
       "                (&#x27;linearregression&#x27;, LinearRegression(fit_intercept=False))])</pre></div></div></div><div class=\"sk-serial\"><div class=\"sk-item sk-dashed-wrapped\"><div class=\"sk-label-container\"><div class=\"sk-label sk-toggleable\"><input class=\"sk-toggleable__control sk-hidden--visually\" id=\"sk-estimator-id-9\" type=\"checkbox\" ><label for=\"sk-estimator-id-9\" class=\"sk-toggleable__label sk-toggleable__label-arrow\">columntransformer: ColumnTransformer</label><div class=\"sk-toggleable__content\"><pre>ColumnTransformer(transformers=[(&#x27;categorical&#x27;,\n",
       "                                 OneHotEncoder(handle_unknown=&#x27;ignore&#x27;),\n",
       "                                 [&#x27;customer_type&#x27;, &#x27;deposit_type&#x27;, &#x27;meal&#x27;,\n",
       "                                  &#x27;hotel&#x27;, &#x27;market_segment&#x27;,\n",
       "                                  &#x27;arrival_date_month&#x27;]),\n",
       "                                (&#x27;numerical&#x27;, StandardScaler(),\n",
       "                                 [&#x27;lead_time&#x27;, &#x27;arrival_date_year&#x27;,\n",
       "                                  &#x27;arrival_date_week_number&#x27;,\n",
       "                                  &#x27;stays_in_weekend_nights&#x27;,\n",
       "                                  &#x27;stays_in_week_nights&#x27;, &#x27;is_repeated_guest&#x27;,\n",
       "                                  &#x27;previous_cancellations&#x27;,\n",
       "                                  &#x27;previous_bookings_not_canceled&#x27;,\n",
       "                                  &#x27;booking_changes&#x27;, &#x27;days_in_waiting_list&#x27;,\n",
       "                                  &#x27;required_car_parking_spaces&#x27;,\n",
       "                                  &#x27;total_of_special_requests&#x27;, &#x27;Room_match&#x27;])])</pre></div></div></div><div class=\"sk-parallel\"><div class=\"sk-parallel-item\"><div class=\"sk-item\"><div class=\"sk-label-container\"><div class=\"sk-label sk-toggleable\"><input class=\"sk-toggleable__control sk-hidden--visually\" id=\"sk-estimator-id-10\" type=\"checkbox\" ><label for=\"sk-estimator-id-10\" class=\"sk-toggleable__label sk-toggleable__label-arrow\">categorical</label><div class=\"sk-toggleable__content\"><pre>[&#x27;customer_type&#x27;, &#x27;deposit_type&#x27;, &#x27;meal&#x27;, &#x27;hotel&#x27;, &#x27;market_segment&#x27;, &#x27;arrival_date_month&#x27;]</pre></div></div></div><div class=\"sk-serial\"><div class=\"sk-item\"><div class=\"sk-estimator sk-toggleable\"><input class=\"sk-toggleable__control sk-hidden--visually\" id=\"sk-estimator-id-11\" type=\"checkbox\" ><label for=\"sk-estimator-id-11\" class=\"sk-toggleable__label sk-toggleable__label-arrow\">OneHotEncoder</label><div class=\"sk-toggleable__content\"><pre>OneHotEncoder(handle_unknown=&#x27;ignore&#x27;)</pre></div></div></div></div></div></div><div class=\"sk-parallel-item\"><div class=\"sk-item\"><div class=\"sk-label-container\"><div class=\"sk-label sk-toggleable\"><input class=\"sk-toggleable__control sk-hidden--visually\" id=\"sk-estimator-id-12\" type=\"checkbox\" ><label for=\"sk-estimator-id-12\" class=\"sk-toggleable__label sk-toggleable__label-arrow\">numerical</label><div class=\"sk-toggleable__content\"><pre>[&#x27;lead_time&#x27;, &#x27;arrival_date_year&#x27;, &#x27;arrival_date_week_number&#x27;, &#x27;stays_in_weekend_nights&#x27;, &#x27;stays_in_week_nights&#x27;, &#x27;is_repeated_guest&#x27;, &#x27;previous_cancellations&#x27;, &#x27;previous_bookings_not_canceled&#x27;, &#x27;booking_changes&#x27;, &#x27;days_in_waiting_list&#x27;, &#x27;required_car_parking_spaces&#x27;, &#x27;total_of_special_requests&#x27;, &#x27;Room_match&#x27;]</pre></div></div></div><div class=\"sk-serial\"><div class=\"sk-item\"><div class=\"sk-estimator sk-toggleable\"><input class=\"sk-toggleable__control sk-hidden--visually\" id=\"sk-estimator-id-13\" type=\"checkbox\" ><label for=\"sk-estimator-id-13\" class=\"sk-toggleable__label sk-toggleable__label-arrow\">StandardScaler</label><div class=\"sk-toggleable__content\"><pre>StandardScaler()</pre></div></div></div></div></div></div></div></div><div class=\"sk-item\"><div class=\"sk-estimator sk-toggleable\"><input class=\"sk-toggleable__control sk-hidden--visually\" id=\"sk-estimator-id-14\" type=\"checkbox\" ><label for=\"sk-estimator-id-14\" class=\"sk-toggleable__label sk-toggleable__label-arrow\">LinearRegression</label><div class=\"sk-toggleable__content\"><pre>LinearRegression(fit_intercept=False)</pre></div></div></div></div></div></div></div>"
      ],
      "text/plain": [
       "Pipeline(steps=[('columntransformer',\n",
       "                 ColumnTransformer(transformers=[('categorical',\n",
       "                                                  OneHotEncoder(handle_unknown='ignore'),\n",
       "                                                  ['customer_type',\n",
       "                                                   'deposit_type', 'meal',\n",
       "                                                   'hotel', 'market_segment',\n",
       "                                                   'arrival_date_month']),\n",
       "                                                 ('numerical', StandardScaler(),\n",
       "                                                  ['lead_time',\n",
       "                                                   'arrival_date_year',\n",
       "                                                   'arrival_date_week_number',\n",
       "                                                   'stays_in_weekend_nights',\n",
       "                                                   'stays_in_week_nights',\n",
       "                                                   'is_repeated_guest',\n",
       "                                                   'previous_cancellations',\n",
       "                                                   'previous_bookings_not_canceled',\n",
       "                                                   'booking_changes',\n",
       "                                                   'days_in_waiting_list',\n",
       "                                                   'required_car_parking_spaces',\n",
       "                                                   'total_of_special_requests',\n",
       "                                                   'Room_match'])])),\n",
       "                ('linearregression', LinearRegression(fit_intercept=False))])"
      ]
     },
     "execution_count": 77,
     "metadata": {},
     "output_type": "execute_result"
    }
   ],
   "source": [
    "logit_reg_hyp.fit(X,y)\n",
    "lr.fit(X1,y1)"
   ]
  },
  {
   "attachments": {},
   "cell_type": "markdown",
   "id": "39b6d405",
   "metadata": {},
   "source": [
    "### 6. Prediction Tool - combining both the models\n",
    "---"
   ]
  },
  {
   "attachments": {},
   "cell_type": "markdown",
   "id": "45cd259c",
   "metadata": {},
   "source": [
    "* Importing a csv file with raw dataset as base dataset.\n",
    "* Cleaning the dataset using the clean function which we have defined earlier.\n",
    "* Predicting the results for the new dataset"
   ]
  },
  {
   "cell_type": "code",
   "execution_count": 78,
   "id": "4ef2c3fa",
   "metadata": {},
   "outputs": [],
   "source": [
    "predict_data = pd.read_csv('Test_Data.csv')\n",
    "predict_data = clean(predict_data)"
   ]
  },
  {
   "cell_type": "code",
   "execution_count": 79,
   "id": "2ba22ea7",
   "metadata": {},
   "outputs": [
    {
     "data": {
      "text/html": [
       "<div>\n",
       "<style scoped>\n",
       "    .dataframe tbody tr th:only-of-type {\n",
       "        vertical-align: middle;\n",
       "    }\n",
       "\n",
       "    .dataframe tbody tr th {\n",
       "        vertical-align: top;\n",
       "    }\n",
       "\n",
       "    .dataframe thead th {\n",
       "        text-align: right;\n",
       "    }\n",
       "</style>\n",
       "<table border=\"1\" class=\"dataframe\">\n",
       "  <thead>\n",
       "    <tr style=\"text-align: right;\">\n",
       "      <th></th>\n",
       "      <th>hotel</th>\n",
       "      <th>is_canceled</th>\n",
       "      <th>lead_time</th>\n",
       "      <th>arrival_date_year</th>\n",
       "      <th>arrival_date_month</th>\n",
       "      <th>arrival_date_week_number</th>\n",
       "      <th>arrival_date_day_of_month</th>\n",
       "      <th>stays_in_weekend_nights</th>\n",
       "      <th>stays_in_week_nights</th>\n",
       "      <th>adults</th>\n",
       "      <th>children</th>\n",
       "      <th>babies</th>\n",
       "      <th>meal</th>\n",
       "      <th>market_segment</th>\n",
       "      <th>is_repeated_guest</th>\n",
       "      <th>previous_cancellations</th>\n",
       "      <th>previous_bookings_not_canceled</th>\n",
       "      <th>booking_changes</th>\n",
       "      <th>deposit_type</th>\n",
       "      <th>days_in_waiting_list</th>\n",
       "      <th>customer_type</th>\n",
       "      <th>adr</th>\n",
       "      <th>required_car_parking_spaces</th>\n",
       "      <th>total_of_special_requests</th>\n",
       "      <th>Room_match</th>\n",
       "    </tr>\n",
       "  </thead>\n",
       "  <tbody>\n",
       "    <tr>\n",
       "      <th>0</th>\n",
       "      <td>City Hotel</td>\n",
       "      <td>1</td>\n",
       "      <td>14</td>\n",
       "      <td>2016</td>\n",
       "      <td>April</td>\n",
       "      <td>17</td>\n",
       "      <td>18</td>\n",
       "      <td>1</td>\n",
       "      <td>3</td>\n",
       "      <td>2</td>\n",
       "      <td>2</td>\n",
       "      <td>0</td>\n",
       "      <td>BB</td>\n",
       "      <td>Online TA</td>\n",
       "      <td>0</td>\n",
       "      <td>0</td>\n",
       "      <td>0</td>\n",
       "      <td>0</td>\n",
       "      <td>No Deposit</td>\n",
       "      <td>0</td>\n",
       "      <td>Transient</td>\n",
       "      <td>191.50</td>\n",
       "      <td>0</td>\n",
       "      <td>0</td>\n",
       "      <td>1</td>\n",
       "    </tr>\n",
       "    <tr>\n",
       "      <th>1</th>\n",
       "      <td>City Hotel</td>\n",
       "      <td>1</td>\n",
       "      <td>104</td>\n",
       "      <td>2016</td>\n",
       "      <td>April</td>\n",
       "      <td>17</td>\n",
       "      <td>18</td>\n",
       "      <td>1</td>\n",
       "      <td>3</td>\n",
       "      <td>1</td>\n",
       "      <td>0</td>\n",
       "      <td>0</td>\n",
       "      <td>BB</td>\n",
       "      <td>Online TA</td>\n",
       "      <td>0</td>\n",
       "      <td>0</td>\n",
       "      <td>0</td>\n",
       "      <td>0</td>\n",
       "      <td>No Deposit</td>\n",
       "      <td>0</td>\n",
       "      <td>Transient</td>\n",
       "      <td>72.25</td>\n",
       "      <td>0</td>\n",
       "      <td>1</td>\n",
       "      <td>1</td>\n",
       "    </tr>\n",
       "    <tr>\n",
       "      <th>2</th>\n",
       "      <td>City Hotel</td>\n",
       "      <td>0</td>\n",
       "      <td>105</td>\n",
       "      <td>2016</td>\n",
       "      <td>April</td>\n",
       "      <td>17</td>\n",
       "      <td>18</td>\n",
       "      <td>1</td>\n",
       "      <td>3</td>\n",
       "      <td>2</td>\n",
       "      <td>0</td>\n",
       "      <td>0</td>\n",
       "      <td>BB</td>\n",
       "      <td>Online TA</td>\n",
       "      <td>0</td>\n",
       "      <td>0</td>\n",
       "      <td>0</td>\n",
       "      <td>0</td>\n",
       "      <td>No Deposit</td>\n",
       "      <td>0</td>\n",
       "      <td>Transient</td>\n",
       "      <td>82.45</td>\n",
       "      <td>0</td>\n",
       "      <td>0</td>\n",
       "      <td>1</td>\n",
       "    </tr>\n",
       "    <tr>\n",
       "      <th>3</th>\n",
       "      <td>City Hotel</td>\n",
       "      <td>0</td>\n",
       "      <td>130</td>\n",
       "      <td>2016</td>\n",
       "      <td>April</td>\n",
       "      <td>17</td>\n",
       "      <td>18</td>\n",
       "      <td>1</td>\n",
       "      <td>3</td>\n",
       "      <td>2</td>\n",
       "      <td>0</td>\n",
       "      <td>0</td>\n",
       "      <td>BB</td>\n",
       "      <td>Online TA</td>\n",
       "      <td>0</td>\n",
       "      <td>0</td>\n",
       "      <td>0</td>\n",
       "      <td>0</td>\n",
       "      <td>No Deposit</td>\n",
       "      <td>0</td>\n",
       "      <td>Transient</td>\n",
       "      <td>84.15</td>\n",
       "      <td>0</td>\n",
       "      <td>0</td>\n",
       "      <td>1</td>\n",
       "    </tr>\n",
       "    <tr>\n",
       "      <th>4</th>\n",
       "      <td>City Hotel</td>\n",
       "      <td>0</td>\n",
       "      <td>127</td>\n",
       "      <td>2016</td>\n",
       "      <td>April</td>\n",
       "      <td>17</td>\n",
       "      <td>18</td>\n",
       "      <td>1</td>\n",
       "      <td>3</td>\n",
       "      <td>2</td>\n",
       "      <td>0</td>\n",
       "      <td>0</td>\n",
       "      <td>SC</td>\n",
       "      <td>Online TA</td>\n",
       "      <td>0</td>\n",
       "      <td>0</td>\n",
       "      <td>0</td>\n",
       "      <td>0</td>\n",
       "      <td>No Deposit</td>\n",
       "      <td>0</td>\n",
       "      <td>Transient</td>\n",
       "      <td>53.25</td>\n",
       "      <td>0</td>\n",
       "      <td>0</td>\n",
       "      <td>1</td>\n",
       "    </tr>\n",
       "  </tbody>\n",
       "</table>\n",
       "</div>"
      ],
      "text/plain": [
       "        hotel  is_canceled  lead_time  arrival_date_year arrival_date_month  \\\n",
       "0  City Hotel            1         14               2016              April   \n",
       "1  City Hotel            1        104               2016              April   \n",
       "2  City Hotel            0        105               2016              April   \n",
       "3  City Hotel            0        130               2016              April   \n",
       "4  City Hotel            0        127               2016              April   \n",
       "\n",
       "   arrival_date_week_number  arrival_date_day_of_month  \\\n",
       "0                        17                         18   \n",
       "1                        17                         18   \n",
       "2                        17                         18   \n",
       "3                        17                         18   \n",
       "4                        17                         18   \n",
       "\n",
       "   stays_in_weekend_nights  stays_in_week_nights  adults  children  babies  \\\n",
       "0                        1                     3       2         2       0   \n",
       "1                        1                     3       1         0       0   \n",
       "2                        1                     3       2         0       0   \n",
       "3                        1                     3       2         0       0   \n",
       "4                        1                     3       2         0       0   \n",
       "\n",
       "  meal market_segment  is_repeated_guest  previous_cancellations  \\\n",
       "0   BB      Online TA                  0                       0   \n",
       "1   BB      Online TA                  0                       0   \n",
       "2   BB      Online TA                  0                       0   \n",
       "3   BB      Online TA                  0                       0   \n",
       "4   SC      Online TA                  0                       0   \n",
       "\n",
       "   previous_bookings_not_canceled  booking_changes deposit_type  \\\n",
       "0                               0                0   No Deposit   \n",
       "1                               0                0   No Deposit   \n",
       "2                               0                0   No Deposit   \n",
       "3                               0                0   No Deposit   \n",
       "4                               0                0   No Deposit   \n",
       "\n",
       "   days_in_waiting_list customer_type     adr  required_car_parking_spaces  \\\n",
       "0                     0     Transient  191.50                            0   \n",
       "1                     0     Transient   72.25                            0   \n",
       "2                     0     Transient   82.45                            0   \n",
       "3                     0     Transient   84.15                            0   \n",
       "4                     0     Transient   53.25                            0   \n",
       "\n",
       "   total_of_special_requests  Room_match  \n",
       "0                          0           1  \n",
       "1                          1           1  \n",
       "2                          0           1  \n",
       "3                          0           1  \n",
       "4                          0           1  "
      ]
     },
     "execution_count": 79,
     "metadata": {},
     "output_type": "execute_result"
    }
   ],
   "source": [
    "predict_data.head()"
   ]
  },
  {
   "cell_type": "code",
   "execution_count": 80,
   "id": "bf21230e",
   "metadata": {},
   "outputs": [],
   "source": [
    "def prediction_tool(X):\n",
    "      \n",
    "        status_features = X[features_log]\n",
    "        cancellation_pred = logit_reg_hyp.predict(status_features)\n",
    "    \n",
    "        days_features = X[reg_features]\n",
    "        time_pred = lr.predict(days_features)\n",
    "        \n",
    "        \n",
    "        b=0\n",
    "        test_str = 'Not canceled'\n",
    "        pred_dict = {\"Position\":[],\"Is_Cancelled\":[],\"Advance_Days\":[]};\n",
    "\n",
    "        for a in cancellation_pred:\n",
    "            \n",
    "            if a == 0:\n",
    "                pred_dict[\"Position\"].append(b+1)\n",
    "                pred_dict[\"Is_Cancelled\"].append(cancellation_pred[b])\n",
    "                pred_dict[\"Advance_Days\"]+= [test_str]\n",
    "                #print(cancellation_pred[b], test_str)\n",
    "            \n",
    "            else:\n",
    "                pred_dict[\"Position\"].append(b+1)\n",
    "                pred_dict[\"Is_Cancelled\"].append(cancellation_pred[b])\n",
    "                pred_dict[\"Advance_Days\"].append(int(time_pred[b]))\n",
    "                #print(cancellation_pred[b], time_pred[b].round(0))\n",
    "            b = b+1\n",
    "        return pred_dict  \n",
    "           "
   ]
  },
  {
   "cell_type": "code",
   "execution_count": 81,
   "id": "09075f08",
   "metadata": {},
   "outputs": [
    {
     "name": "stdout",
     "output_type": "stream",
     "text": [
      "Booking: 1 -- Will be canceled in 21 days\n",
      "Booking: 2 -- The Booking will not be canceled\n",
      "Booking: 3 -- Will be canceled in 69 days\n",
      "Booking: 4 -- Will be canceled in 83 days\n",
      "Booking: 5 -- Will be canceled in 78 days\n",
      "Booking: 6 -- The Booking will not be canceled\n",
      "Booking: 7 -- The Booking will not be canceled\n",
      "Booking: 8 -- Will be canceled in 75 days\n",
      "Booking: 9 -- Will be canceled in 31 days\n",
      "Booking: 10 -- The Booking will not be canceled\n",
      "Booking: 11 -- The Booking will not be canceled\n",
      "Booking: 12 -- Will be canceled in 155 days\n",
      "Booking: 13 -- The Booking will not be canceled\n",
      "Booking: 14 -- Will be canceled in 155 days\n",
      "Booking: 15 -- Will be canceled in 155 days\n",
      "Booking: 16 -- Will be canceled in 155 days\n",
      "Booking: 17 -- Will be canceled in 155 days\n",
      "Booking: 18 -- The Booking will not be canceled\n",
      "Booking: 19 -- The Booking will not be canceled\n",
      "Booking: 20 -- Will be canceled in 96 days\n",
      "Booking: 21 -- Will be canceled in 96 days\n",
      "Booking: 22 -- Will be canceled in 96 days\n",
      "Booking: 23 -- Will be canceled in 96 days\n",
      "Booking: 24 -- Will be canceled in 92 days\n",
      "Booking: 25 -- Will be canceled in 92 days\n",
      "Booking: 26 -- Will be canceled in 84 days\n",
      "Booking: 27 -- Will be canceled in 94 days\n",
      "Booking: 28 -- Will be canceled in 94 days\n",
      "Booking: 29 -- Will be canceled in 94 days\n",
      "Booking: 30 -- Will be canceled in 94 days\n",
      "Booking: 31 -- Will be canceled in 94 days\n"
     ]
    }
   ],
   "source": [
    "results = prediction_tool(predict_data)\n",
    "\n",
    "for i in range(len(results[\"Position\"])):\n",
    "    position = results[\"Position\"][i]\n",
    "    is_cancelled = results[\"Is_Cancelled\"][i]\n",
    "    advance_days = results[\"Advance_Days\"][i]\n",
    "    if advance_days == 'Not canceled':\n",
    "        print(f\"Booking: {position} -- The Booking will not be canceled\")\n",
    "    else:\n",
    "        print(f\"Booking: {position} -- Will be canceled in {advance_days} days\")    "
   ]
  },
  {
   "attachments": {},
   "cell_type": "markdown",
   "id": "ecd72ffd",
   "metadata": {},
   "source": [
    "### 7. Summary and Conclusion\n",
    "---\n",
    "\n",
    "- After performing EDA on our dataset, we performed several data cleaning processes and data preparation before feeding the data to the models.\n",
    "\n",
    "- Model 1: We have split the data using Hold-Out validation first and then with 'Stratified KFold CV'. Further created a pipeline for our classifiers and then applied Hyperparameter tuning to get the best parameters for our model. After training the model on our train data and then on test data, we generated our confusion matrix and classification report. \n",
    "\n",
    "- We compared two classifiers : 1) Logistic Regression & 2) Random Forest Classifier, to predict the cancellations. Due to computational complexity and cost restrictions in Random Forest, we found 'Logistic Regression' to be a better choice.\n",
    "\n",
    "- Given a new dataset, our model(logit_reg_hyp) is now ready to predict whether or not a hotel booking will be canceled with 81% accuracy."
   ]
  },
  {
   "attachments": {},
   "cell_type": "markdown",
   "id": "493ff7d9",
   "metadata": {},
   "source": [
    "##### The screen Shot of Random Forest Hyperparametric Tuning is given below"
   ]
  },
  {
   "attachments": {},
   "cell_type": "markdown",
   "id": "61c04509",
   "metadata": {},
   "source": [
    "![alternative text](RD_Forest.jpg)"
   ]
  },
  {
   "attachments": {},
   "cell_type": "markdown",
   "id": "486ebb8a",
   "metadata": {},
   "source": [
    "- Model 2: Predicting the number of days in advance the hotel booking might get canceled.\n",
    "\n",
    "-  We have split the data using Hold-Out validation followed by 'KFold CV'. Further created a pipeline for our classifiers and then applied Hyperparameter tuning to get the best parameters. After training and testing the model, we generated our mean square error for model comparison.\n",
    "\n",
    "- used 5-Fold cross-validation to assess the out-of-sample accuracy of two regression models (linear and quadratic regression). The mean square error for Linear Regression(3218.928635103737) model was significantly lesser compared to the polynomial model (3.248030374247802e+20). Hence, we decided to go ahead with the Linear Regression Model.\n",
    "\n",
    "- Here, we have first implemented backward feature selection and selected the best features. \n",
    "\n",
    "- Our model(lr) is now ready to predict the number of days in advance the hotel booking might get canceled with 62% accuracy."
   ]
  }
 ],
 "metadata": {
  "kernelspec": {
   "display_name": "Python 3 (ipykernel)",
   "language": "python",
   "name": "python3"
  },
  "language_info": {
   "codemirror_mode": {
    "name": "ipython",
    "version": 3
   },
   "file_extension": ".py",
   "mimetype": "text/x-python",
   "name": "python",
   "nbconvert_exporter": "python",
   "pygments_lexer": "ipython3",
   "version": "3.10.9"
  },
  "vscode": {
   "interpreter": {
    "hash": "062c9ab920b5f8976570c38404b3ac136106deacbbb0ec64ce99fdf2e010f818"
   }
  }
 },
 "nbformat": 4,
 "nbformat_minor": 5
}
